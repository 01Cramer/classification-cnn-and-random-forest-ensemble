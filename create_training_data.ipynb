{
 "cells": [
  {
   "cell_type": "code",
   "execution_count": 1,
   "id": "1dc3c951",
   "metadata": {},
   "outputs": [
    {
     "name": "stdout",
     "output_type": "stream",
     "text": [
      "Defaulting to user installation because normal site-packages is not writeable\n",
      "Requirement already satisfied: opencv-python in c:\\users\\adria\\appdata\\roaming\\python\\python311\\site-packages (4.9.0.80)\n",
      "Requirement already satisfied: numpy>=1.21.2 in c:\\programdata\\anaconda3\\lib\\site-packages (from opencv-python) (1.24.3)\n"
     ]
    }
   ],
   "source": [
    "import numpy as np\n",
    "import matplotlib.pyplot as plt\n",
    "import os\n",
    "\n",
    "!pip install opencv-python\n",
    "import cv2\n",
    "data_dir = \"C:\\\\Users\\\\adria\\\\Documents\\\\GitHub\\\\leaf-count-cv\\\\\"\n",
    "categories = [\"aspen\", \"birch\", \"hazel\", \"maple\", \"oak\"]"
   ]
  },
  {
   "cell_type": "code",
   "execution_count": 2,
   "id": "bde4c8ee",
   "metadata": {},
   "outputs": [],
   "source": [
    "img_size = 50\n",
    "training_data = []\n",
    "def create_training_data():\n",
    "    for category in categories:\n",
    "        path = os.path.join(data_dir, category)\n",
    "        class_num = categories.index(category)\n",
    "        for img in os.listdir(path):\n",
    "            try:\n",
    "                img_array = cv2.imread(os.path.join(path,img), cv2.IMREAD_GRAYSCALE)\n",
    "                new_array = cv2.resize(img_array, (img_size, img_size))\n",
    "                training_data.append([new_array, class_num])\n",
    "            except Exception as e:\n",
    "                 print(\"general exception\", e, os.path.join(path,img))\n",
    "\n",
    "                    \n",
    "create_training_data()"
   ]
  },
  {
   "cell_type": "code",
   "execution_count": 3,
   "id": "8b5540cc",
   "metadata": {},
   "outputs": [
    {
     "name": "stdout",
     "output_type": "stream",
     "text": [
      "162\n"
     ]
    }
   ],
   "source": [
    "print(len(training_data))"
   ]
  },
  {
   "cell_type": "code",
   "execution_count": 4,
   "id": "4dee7275",
   "metadata": {},
   "outputs": [],
   "source": [
    "import random\n",
    "\n",
    "random.shuffle(training_data)"
   ]
  },
  {
   "cell_type": "code",
   "execution_count": 5,
   "id": "88ac443e",
   "metadata": {},
   "outputs": [
    {
     "name": "stdout",
     "output_type": "stream",
     "text": [
      "2\n",
      "4\n",
      "2\n",
      "0\n",
      "1\n",
      "2\n",
      "1\n",
      "3\n",
      "4\n",
      "0\n"
     ]
    }
   ],
   "source": [
    "for sample in training_data[:10]:\n",
    "    print(sample[1])"
   ]
  },
  {
   "cell_type": "code",
   "execution_count": 6,
   "id": "6df3c3c9",
   "metadata": {},
   "outputs": [
    {
     "name": "stdout",
     "output_type": "stream",
     "text": [
      "[[[[254]\n",
      "   [254]\n",
      "   [254]\n",
      "   ...\n",
      "   [254]\n",
      "   [254]\n",
      "   [254]]\n",
      "\n",
      "  [[254]\n",
      "   [254]\n",
      "   [254]\n",
      "   ...\n",
      "   [254]\n",
      "   [254]\n",
      "   [254]]\n",
      "\n",
      "  [[254]\n",
      "   [254]\n",
      "   [254]\n",
      "   ...\n",
      "   [254]\n",
      "   [254]\n",
      "   [254]]\n",
      "\n",
      "  ...\n",
      "\n",
      "  [[254]\n",
      "   [254]\n",
      "   [254]\n",
      "   ...\n",
      "   [254]\n",
      "   [254]\n",
      "   [254]]\n",
      "\n",
      "  [[254]\n",
      "   [254]\n",
      "   [254]\n",
      "   ...\n",
      "   [254]\n",
      "   [254]\n",
      "   [254]]\n",
      "\n",
      "  [[254]\n",
      "   [254]\n",
      "   [254]\n",
      "   ...\n",
      "   [254]\n",
      "   [254]\n",
      "   [254]]]]\n"
     ]
    }
   ],
   "source": [
    "X = []\n",
    "y = []\n",
    "\n",
    "for features,label in training_data:\n",
    "    X.append(features)\n",
    "    y.append(label)\n",
    "\n",
    "print(X[0].reshape(-1, img_size, img_size, 1))\n",
    "\n",
    "X = np.array(X).reshape(-1, img_size, img_size, 1)\n",
    "y = np.array(y)"
   ]
  },
  {
   "cell_type": "code",
   "execution_count": 7,
   "id": "9544d4f7",
   "metadata": {},
   "outputs": [
    {
     "name": "stdout",
     "output_type": "stream",
     "text": [
      "(162, 50, 50, 1)\n"
     ]
    }
   ],
   "source": [
    "print(X.shape)"
   ]
  },
  {
   "cell_type": "code",
   "execution_count": 8,
   "id": "f2df5933",
   "metadata": {},
   "outputs": [],
   "source": [
    "import pickle"
   ]
  },
  {
   "cell_type": "code",
   "execution_count": 9,
   "id": "b1a06d31",
   "metadata": {},
   "outputs": [],
   "source": [
    "pickle_out = open(\"X.pickle\",\"wb\")\n",
    "pickle.dump(X, pickle_out)\n",
    "pickle_out.close()\n",
    "\n",
    "pickle_out = open(\"y.pickle\",\"wb\")\n",
    "pickle.dump(y, pickle_out)\n",
    "pickle_out.close()"
   ]
  }
 ],
 "metadata": {
  "kernelspec": {
   "display_name": "Python 3 (ipykernel)",
   "language": "python",
   "name": "python3"
  },
  "language_info": {
   "codemirror_mode": {
    "name": "ipython",
    "version": 3
   },
   "file_extension": ".py",
   "mimetype": "text/x-python",
   "name": "python",
   "nbconvert_exporter": "python",
   "pygments_lexer": "ipython3",
   "version": "3.11.3"
  }
 },
 "nbformat": 4,
 "nbformat_minor": 5
}
