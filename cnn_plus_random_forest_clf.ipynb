{
 "cells": [
  {
   "cell_type": "code",
   "execution_count": 1,
   "id": "4570c20c",
   "metadata": {},
   "outputs": [],
   "source": [
    "import pickle\n",
    "import time\n",
    "\n",
    "pickle_in = open(\"X.pickle\",\"rb\")\n",
    "X = pickle.load(pickle_in)\n",
    "\n",
    "pickle_in = open(\"y.pickle\",\"rb\")\n",
    "y = pickle.load(pickle_in)"
   ]
  },
  {
   "cell_type": "code",
   "execution_count": 2,
   "id": "eb857125",
   "metadata": {},
   "outputs": [
    {
     "name": "stdout",
     "output_type": "stream",
     "text": [
      "WARNING:tensorflow:From C:\\Users\\adria\\AppData\\Roaming\\Python\\Python311\\site-packages\\keras\\src\\losses.py:2976: The name tf.losses.sparse_softmax_cross_entropy is deprecated. Please use tf.compat.v1.losses.sparse_softmax_cross_entropy instead.\n",
      "\n",
      "2.15.0\n"
     ]
    }
   ],
   "source": [
    "import tensorflow as tf\n",
    "print(tf.__version__)\n",
    "from tensorflow.keras.preprocessing.image import ImageDataGenerator\n",
    "from tensorflow.keras.models import Sequential, Model\n",
    "from tensorflow.keras.layers import Dense, Dropout, Activation, Flatten\n",
    "from tensorflow.keras.layers import Conv2D, MaxPooling2D\n",
    "from tensorflow.keras.layers import BatchNormalization\n",
    "from tensorflow.keras.callbacks import TensorBoard"
   ]
  },
  {
   "cell_type": "code",
   "execution_count": 3,
   "id": "2249698c",
   "metadata": {},
   "outputs": [],
   "source": [
    "X = X/255.0 # normalized data"
   ]
  },
  {
   "cell_type": "code",
   "execution_count": 6,
   "id": "868d4ca9",
   "metadata": {},
   "outputs": [
    {
     "name": "stdout",
     "output_type": "stream",
     "text": [
      "WARNING:tensorflow:From C:\\Users\\adria\\AppData\\Roaming\\Python\\Python311\\site-packages\\keras\\src\\backend.py:873: The name tf.get_default_graph is deprecated. Please use tf.compat.v1.get_default_graph instead.\n",
      "\n",
      "WARNING:tensorflow:From C:\\Users\\adria\\AppData\\Roaming\\Python\\Python311\\site-packages\\keras\\src\\layers\\normalization\\batch_normalization.py:979: The name tf.nn.fused_batch_norm is deprecated. Please use tf.compat.v1.nn.fused_batch_norm instead.\n",
      "\n"
     ]
    }
   ],
   "source": [
    "activation = 'sigmoid'\n",
    "feature_extractor = Sequential()\n",
    "feature_extractor.add(Conv2D(32, 3, activation = activation, padding = 'same', input_shape = X.shape[1:]))\n",
    "feature_extractor.add(BatchNormalization())\n",
    "\n",
    "feature_extractor.add(Conv2D(32, 3, activation = activation, padding = 'same', kernel_initializer = 'he_uniform'))\n",
    "feature_extractor.add(BatchNormalization())\n",
    "feature_extractor.add(MaxPooling2D())\n",
    "\n",
    "feature_extractor.add(Conv2D(64, 3, activation = activation, padding = 'same', kernel_initializer = 'he_uniform'))\n",
    "feature_extractor.add(BatchNormalization())\n",
    "\n",
    "feature_extractor.add(Conv2D(64, 3, activation = activation, padding = 'same', kernel_initializer = 'he_uniform'))\n",
    "feature_extractor.add(BatchNormalization())\n",
    "feature_extractor.add(MaxPooling2D())\n",
    "\n",
    "feature_extractor.add(Flatten())"
   ]
  },
  {
   "cell_type": "code",
   "execution_count": 7,
   "id": "b75cd589",
   "metadata": {},
   "outputs": [],
   "source": [
    "x = feature_extractor.output  \n",
    "x = Dense(128, activation = activation, kernel_initializer = 'he_uniform')(x)\n",
    "prediction_layer = Dense(5, activation = 'softmax')(x)"
   ]
  },
  {
   "cell_type": "code",
   "execution_count": 8,
   "id": "73d6df11",
   "metadata": {},
   "outputs": [
    {
     "name": "stdout",
     "output_type": "stream",
     "text": [
      "WARNING:tensorflow:From C:\\Users\\adria\\AppData\\Roaming\\Python\\Python311\\site-packages\\keras\\src\\optimizers\\__init__.py:309: The name tf.train.Optimizer is deprecated. Please use tf.compat.v1.train.Optimizer instead.\n",
      "\n",
      "Model: \"model\"\n",
      "_________________________________________________________________\n",
      " Layer (type)                Output Shape              Param #   \n",
      "=================================================================\n",
      " conv2d_input (InputLayer)   [(None, 128, 128, 3)]     0         \n",
      "                                                                 \n",
      " conv2d (Conv2D)             (None, 128, 128, 32)      896       \n",
      "                                                                 \n",
      " batch_normalization (Batch  (None, 128, 128, 32)      128       \n",
      " Normalization)                                                  \n",
      "                                                                 \n",
      " conv2d_1 (Conv2D)           (None, 128, 128, 32)      9248      \n",
      "                                                                 \n",
      " batch_normalization_1 (Bat  (None, 128, 128, 32)      128       \n",
      " chNormalization)                                                \n",
      "                                                                 \n",
      " max_pooling2d (MaxPooling2  (None, 64, 64, 32)        0         \n",
      " D)                                                              \n",
      "                                                                 \n",
      " conv2d_2 (Conv2D)           (None, 64, 64, 64)        18496     \n",
      "                                                                 \n",
      " batch_normalization_2 (Bat  (None, 64, 64, 64)        256       \n",
      " chNormalization)                                                \n",
      "                                                                 \n",
      " conv2d_3 (Conv2D)           (None, 64, 64, 64)        36928     \n",
      "                                                                 \n",
      " batch_normalization_3 (Bat  (None, 64, 64, 64)        256       \n",
      " chNormalization)                                                \n",
      "                                                                 \n",
      " max_pooling2d_1 (MaxPoolin  (None, 32, 32, 64)        0         \n",
      " g2D)                                                            \n",
      "                                                                 \n",
      " flatten (Flatten)           (None, 65536)             0         \n",
      "                                                                 \n",
      " dense (Dense)               (None, 128)               8388736   \n",
      "                                                                 \n",
      " dense_1 (Dense)             (None, 5)                 645       \n",
      "                                                                 \n",
      "=================================================================\n",
      "Total params: 8455717 (32.26 MB)\n",
      "Trainable params: 8455333 (32.25 MB)\n",
      "Non-trainable params: 384 (1.50 KB)\n",
      "_________________________________________________________________\n",
      "None\n"
     ]
    }
   ],
   "source": [
    "cnn_model = Model(inputs=feature_extractor.input, outputs=prediction_layer)\n",
    "cnn_model.compile(optimizer='rmsprop',loss = 'sparse_categorical_crossentropy', metrics = ['accuracy'])\n",
    "print(cnn_model.summary())"
   ]
  },
  {
   "cell_type": "code",
   "execution_count": 9,
   "id": "b890db70",
   "metadata": {},
   "outputs": [
    {
     "name": "stdout",
     "output_type": "stream",
     "text": [
      "Epoch 1/75\n",
      "WARNING:tensorflow:From C:\\Users\\adria\\AppData\\Roaming\\Python\\Python311\\site-packages\\keras\\src\\utils\\tf_utils.py:492: The name tf.ragged.RaggedTensorValue is deprecated. Please use tf.compat.v1.ragged.RaggedTensorValue instead.\n",
      "\n",
      "WARNING:tensorflow:From C:\\Users\\adria\\AppData\\Roaming\\Python\\Python311\\site-packages\\keras\\src\\engine\\base_layer_utils.py:384: The name tf.executing_eagerly_outside_functions is deprecated. Please use tf.compat.v1.executing_eagerly_outside_functions instead.\n",
      "\n",
      "9/9 [==============================] - 9s 802ms/step - loss: 1.7591 - accuracy: 0.3394\n",
      "Epoch 2/75\n",
      "9/9 [==============================] - 8s 848ms/step - loss: 1.0000 - accuracy: 0.5993\n",
      "Epoch 3/75\n",
      "9/9 [==============================] - 7s 788ms/step - loss: 0.8177 - accuracy: 0.6390\n",
      "Epoch 4/75\n",
      "9/9 [==============================] - 6s 687ms/step - loss: 1.0319 - accuracy: 0.5993\n",
      "Epoch 5/75\n",
      "9/9 [==============================] - 6s 720ms/step - loss: 0.7796 - accuracy: 0.6931\n",
      "Epoch 6/75\n",
      "9/9 [==============================] - 7s 784ms/step - loss: 0.7131 - accuracy: 0.7401\n",
      "Epoch 7/75\n",
      "9/9 [==============================] - 7s 800ms/step - loss: 0.7056 - accuracy: 0.7365\n",
      "Epoch 8/75\n",
      "9/9 [==============================] - 7s 822ms/step - loss: 0.6677 - accuracy: 0.7329\n",
      "Epoch 9/75\n",
      "9/9 [==============================] - 7s 820ms/step - loss: 0.6304 - accuracy: 0.7581\n",
      "Epoch 10/75\n",
      "9/9 [==============================] - 7s 751ms/step - loss: 0.5628 - accuracy: 0.8014\n",
      "Epoch 11/75\n",
      "9/9 [==============================] - 7s 708ms/step - loss: 0.5574 - accuracy: 0.8014\n",
      "Epoch 12/75\n",
      "9/9 [==============================] - 6s 695ms/step - loss: 0.5819 - accuracy: 0.7617\n",
      "Epoch 13/75\n",
      "9/9 [==============================] - 7s 739ms/step - loss: 0.5064 - accuracy: 0.8375\n",
      "Epoch 14/75\n",
      "9/9 [==============================] - 6s 697ms/step - loss: 0.4561 - accuracy: 0.8303\n",
      "Epoch 15/75\n",
      "9/9 [==============================] - 7s 749ms/step - loss: 0.4575 - accuracy: 0.8303\n",
      "Epoch 16/75\n",
      "9/9 [==============================] - 7s 738ms/step - loss: 0.4708 - accuracy: 0.8231\n",
      "Epoch 17/75\n",
      "9/9 [==============================] - 7s 735ms/step - loss: 0.5414 - accuracy: 0.8087\n",
      "Epoch 18/75\n",
      "9/9 [==============================] - 7s 736ms/step - loss: 0.4178 - accuracy: 0.8664\n",
      "Epoch 19/75\n",
      "9/9 [==============================] - 6s 705ms/step - loss: 0.3442 - accuracy: 0.8881\n",
      "Epoch 20/75\n",
      "9/9 [==============================] - 6s 718ms/step - loss: 0.4110 - accuracy: 0.8520\n",
      "Epoch 21/75\n",
      "9/9 [==============================] - 7s 750ms/step - loss: 0.3566 - accuracy: 0.8628\n",
      "Epoch 22/75\n",
      "9/9 [==============================] - 7s 771ms/step - loss: 0.3442 - accuracy: 0.8736\n",
      "Epoch 23/75\n",
      "9/9 [==============================] - 7s 754ms/step - loss: 0.3509 - accuracy: 0.8736\n",
      "Epoch 24/75\n",
      "9/9 [==============================] - 7s 758ms/step - loss: 0.3605 - accuracy: 0.8809\n",
      "Epoch 25/75\n",
      "9/9 [==============================] - 6s 702ms/step - loss: 0.2994 - accuracy: 0.8917\n",
      "Epoch 26/75\n",
      "9/9 [==============================] - 7s 725ms/step - loss: 0.3595 - accuracy: 0.8700\n",
      "Epoch 27/75\n",
      "9/9 [==============================] - 6s 706ms/step - loss: 0.2989 - accuracy: 0.9134\n",
      "Epoch 28/75\n",
      "9/9 [==============================] - 7s 725ms/step - loss: 0.3111 - accuracy: 0.8628\n",
      "Epoch 29/75\n",
      "9/9 [==============================] - 7s 715ms/step - loss: 0.3299 - accuracy: 0.8917\n",
      "Epoch 30/75\n",
      "9/9 [==============================] - 7s 754ms/step - loss: 0.3274 - accuracy: 0.8664\n",
      "Epoch 31/75\n",
      "9/9 [==============================] - 7s 728ms/step - loss: 0.2921 - accuracy: 0.9170\n",
      "Epoch 32/75\n",
      "9/9 [==============================] - 6s 710ms/step - loss: 0.3025 - accuracy: 0.8917\n",
      "Epoch 33/75\n",
      "9/9 [==============================] - 7s 726ms/step - loss: 0.2454 - accuracy: 0.9314\n",
      "Epoch 34/75\n",
      "9/9 [==============================] - 6s 696ms/step - loss: 0.2779 - accuracy: 0.8917\n",
      "Epoch 35/75\n",
      "9/9 [==============================] - 7s 715ms/step - loss: 0.3121 - accuracy: 0.8809\n",
      "Epoch 36/75\n",
      "9/9 [==============================] - 6s 671ms/step - loss: 0.2802 - accuracy: 0.9170\n",
      "Epoch 37/75\n",
      "9/9 [==============================] - 6s 669ms/step - loss: 0.2079 - accuracy: 0.9531\n",
      "Epoch 38/75\n",
      "9/9 [==============================] - 6s 670ms/step - loss: 0.2659 - accuracy: 0.9134\n",
      "Epoch 39/75\n",
      "9/9 [==============================] - 6s 668ms/step - loss: 0.3406 - accuracy: 0.8628\n",
      "Epoch 40/75\n",
      "9/9 [==============================] - 6s 678ms/step - loss: 0.2511 - accuracy: 0.9314\n",
      "Epoch 41/75\n",
      "9/9 [==============================] - 6s 667ms/step - loss: 0.2175 - accuracy: 0.9422\n",
      "Epoch 42/75\n",
      "9/9 [==============================] - 6s 677ms/step - loss: 0.2183 - accuracy: 0.9314\n",
      "Epoch 43/75\n",
      "9/9 [==============================] - 6s 688ms/step - loss: 0.1973 - accuracy: 0.9458\n",
      "Epoch 44/75\n",
      "9/9 [==============================] - 6s 721ms/step - loss: 0.2089 - accuracy: 0.9350\n",
      "Epoch 45/75\n",
      "9/9 [==============================] - 6s 702ms/step - loss: 0.2243 - accuracy: 0.9206\n",
      "Epoch 46/75\n",
      "9/9 [==============================] - 6s 681ms/step - loss: 0.1733 - accuracy: 0.9422\n",
      "Epoch 47/75\n",
      "9/9 [==============================] - 6s 686ms/step - loss: 0.1668 - accuracy: 0.9495\n",
      "Epoch 48/75\n",
      "9/9 [==============================] - 7s 740ms/step - loss: 0.1802 - accuracy: 0.9350\n",
      "Epoch 49/75\n",
      "9/9 [==============================] - 6s 668ms/step - loss: 0.2042 - accuracy: 0.9242\n",
      "Epoch 50/75\n",
      "9/9 [==============================] - 7s 728ms/step - loss: 0.2055 - accuracy: 0.9314\n",
      "Epoch 51/75\n",
      "9/9 [==============================] - 6s 667ms/step - loss: 0.1523 - accuracy: 0.9531\n",
      "Epoch 52/75\n",
      "9/9 [==============================] - 6s 671ms/step - loss: 0.1559 - accuracy: 0.9783\n",
      "Epoch 53/75\n",
      "9/9 [==============================] - 6s 672ms/step - loss: 0.1966 - accuracy: 0.9242\n",
      "Epoch 54/75\n",
      "9/9 [==============================] - 6s 675ms/step - loss: 0.1496 - accuracy: 0.9639\n",
      "Epoch 55/75\n",
      "9/9 [==============================] - 6s 671ms/step - loss: 0.1470 - accuracy: 0.9567\n",
      "Epoch 56/75\n",
      "9/9 [==============================] - 6s 677ms/step - loss: 0.1734 - accuracy: 0.9242\n",
      "Epoch 57/75\n",
      "9/9 [==============================] - 6s 677ms/step - loss: 0.1454 - accuracy: 0.9567\n",
      "Epoch 58/75\n",
      "9/9 [==============================] - 6s 672ms/step - loss: 0.1794 - accuracy: 0.9458\n",
      "Epoch 59/75\n",
      "9/9 [==============================] - 8s 915ms/step - loss: 0.1340 - accuracy: 0.9567\n",
      "Epoch 60/75\n",
      "9/9 [==============================] - 8s 833ms/step - loss: 0.1147 - accuracy: 0.9747\n",
      "Epoch 61/75\n",
      "9/9 [==============================] - 7s 826ms/step - loss: 0.1460 - accuracy: 0.9603\n",
      "Epoch 62/75\n",
      "9/9 [==============================] - 7s 791ms/step - loss: 0.1188 - accuracy: 0.9711\n",
      "Epoch 63/75\n",
      "9/9 [==============================] - 7s 759ms/step - loss: 0.1169 - accuracy: 0.9675\n",
      "Epoch 64/75\n",
      "9/9 [==============================] - 7s 763ms/step - loss: 0.1028 - accuracy: 0.9747\n",
      "Epoch 65/75\n",
      "9/9 [==============================] - 7s 817ms/step - loss: 0.1262 - accuracy: 0.9639\n",
      "Epoch 66/75\n",
      "9/9 [==============================] - 8s 878ms/step - loss: 0.1399 - accuracy: 0.9567\n",
      "Epoch 67/75\n",
      "9/9 [==============================] - 7s 808ms/step - loss: 0.0998 - accuracy: 0.9819\n",
      "Epoch 68/75\n",
      "9/9 [==============================] - 7s 812ms/step - loss: 0.0941 - accuracy: 0.9819\n",
      "Epoch 69/75\n",
      "9/9 [==============================] - 7s 819ms/step - loss: 0.0719 - accuracy: 0.9892\n",
      "Epoch 70/75\n",
      "9/9 [==============================] - 7s 832ms/step - loss: 0.1530 - accuracy: 0.9567\n",
      "Epoch 71/75\n",
      "9/9 [==============================] - 7s 806ms/step - loss: 0.1089 - accuracy: 0.9747\n",
      "Epoch 72/75\n",
      "9/9 [==============================] - 7s 792ms/step - loss: 0.1353 - accuracy: 0.9567\n",
      "Epoch 73/75\n",
      "9/9 [==============================] - 7s 794ms/step - loss: 0.1128 - accuracy: 0.9675\n",
      "Epoch 74/75\n",
      "9/9 [==============================] - 7s 809ms/step - loss: 0.0906 - accuracy: 0.9747\n",
      "Epoch 75/75\n",
      "9/9 [==============================] - 7s 802ms/step - loss: 0.1052 - accuracy: 0.9675\n"
     ]
    },
    {
     "data": {
      "text/plain": [
       "<keras.src.callbacks.History at 0x1ca6d00f550>"
      ]
     },
     "execution_count": 9,
     "metadata": {},
     "output_type": "execute_result"
    }
   ],
   "source": [
    "cnn_model.fit(X, y, epochs=75)"
   ]
  },
  {
   "cell_type": "code",
   "execution_count": 10,
   "id": "7e596c1b",
   "metadata": {},
   "outputs": [
    {
     "name": "stdout",
     "output_type": "stream",
     "text": [
      "9/9 [==============================] - 2s 175ms/step\n"
     ]
    }
   ],
   "source": [
    "x_train_RF = feature_extractor.predict(X)"
   ]
  },
  {
   "cell_type": "code",
   "execution_count": 11,
   "id": "a58225da",
   "metadata": {},
   "outputs": [
    {
     "name": "stdout",
     "output_type": "stream",
     "text": [
      "(277, 65536)\n"
     ]
    }
   ],
   "source": [
    "print(x_train_RF.shape)"
   ]
  },
  {
   "cell_type": "code",
   "execution_count": 12,
   "id": "4ed0b425",
   "metadata": {},
   "outputs": [],
   "source": [
    "from sklearn.model_selection import GridSearchCV\n",
    "from sklearn.ensemble import RandomForestClassifier"
   ]
  },
  {
   "cell_type": "code",
   "execution_count": 13,
   "id": "8e50de97",
   "metadata": {},
   "outputs": [],
   "source": [
    "parameters = {'n_estimators': (10,20,30,40,50,70), 'criterion': ('gini', 'entropy'), 'max_depth': (3,5,7),\n",
    "             'max_features' : (2,4), 'min_samples_split' : (2,4)}"
   ]
  },
  {
   "cell_type": "code",
   "execution_count": 14,
   "id": "e12a4fa7",
   "metadata": {},
   "outputs": [],
   "source": [
    "RF_grid = GridSearchCV(RandomForestClassifier(n_jobs=-1, oob_score=False), param_grid=parameters, cv=3, verbose=True)"
   ]
  },
  {
   "cell_type": "code",
   "execution_count": 15,
   "id": "541312b0",
   "metadata": {},
   "outputs": [
    {
     "name": "stdout",
     "output_type": "stream",
     "text": [
      "Fitting 3 folds for each of 144 candidates, totalling 432 fits\n"
     ]
    }
   ],
   "source": [
    "RF_grid_model = RF_grid.fit(x_train_RF, y)"
   ]
  },
  {
   "cell_type": "code",
   "execution_count": 16,
   "id": "ef2b69c9",
   "metadata": {},
   "outputs": [
    {
     "data": {
      "text/html": [
       "<style>#sk-container-id-1 {color: black;background-color: white;}#sk-container-id-1 pre{padding: 0;}#sk-container-id-1 div.sk-toggleable {background-color: white;}#sk-container-id-1 label.sk-toggleable__label {cursor: pointer;display: block;width: 100%;margin-bottom: 0;padding: 0.3em;box-sizing: border-box;text-align: center;}#sk-container-id-1 label.sk-toggleable__label-arrow:before {content: \"▸\";float: left;margin-right: 0.25em;color: #696969;}#sk-container-id-1 label.sk-toggleable__label-arrow:hover:before {color: black;}#sk-container-id-1 div.sk-estimator:hover label.sk-toggleable__label-arrow:before {color: black;}#sk-container-id-1 div.sk-toggleable__content {max-height: 0;max-width: 0;overflow: hidden;text-align: left;background-color: #f0f8ff;}#sk-container-id-1 div.sk-toggleable__content pre {margin: 0.2em;color: black;border-radius: 0.25em;background-color: #f0f8ff;}#sk-container-id-1 input.sk-toggleable__control:checked~div.sk-toggleable__content {max-height: 200px;max-width: 100%;overflow: auto;}#sk-container-id-1 input.sk-toggleable__control:checked~label.sk-toggleable__label-arrow:before {content: \"▾\";}#sk-container-id-1 div.sk-estimator input.sk-toggleable__control:checked~label.sk-toggleable__label {background-color: #d4ebff;}#sk-container-id-1 div.sk-label input.sk-toggleable__control:checked~label.sk-toggleable__label {background-color: #d4ebff;}#sk-container-id-1 input.sk-hidden--visually {border: 0;clip: rect(1px 1px 1px 1px);clip: rect(1px, 1px, 1px, 1px);height: 1px;margin: -1px;overflow: hidden;padding: 0;position: absolute;width: 1px;}#sk-container-id-1 div.sk-estimator {font-family: monospace;background-color: #f0f8ff;border: 1px dotted black;border-radius: 0.25em;box-sizing: border-box;margin-bottom: 0.5em;}#sk-container-id-1 div.sk-estimator:hover {background-color: #d4ebff;}#sk-container-id-1 div.sk-parallel-item::after {content: \"\";width: 100%;border-bottom: 1px solid gray;flex-grow: 1;}#sk-container-id-1 div.sk-label:hover label.sk-toggleable__label {background-color: #d4ebff;}#sk-container-id-1 div.sk-serial::before {content: \"\";position: absolute;border-left: 1px solid gray;box-sizing: border-box;top: 0;bottom: 0;left: 50%;z-index: 0;}#sk-container-id-1 div.sk-serial {display: flex;flex-direction: column;align-items: center;background-color: white;padding-right: 0.2em;padding-left: 0.2em;position: relative;}#sk-container-id-1 div.sk-item {position: relative;z-index: 1;}#sk-container-id-1 div.sk-parallel {display: flex;align-items: stretch;justify-content: center;background-color: white;position: relative;}#sk-container-id-1 div.sk-item::before, #sk-container-id-1 div.sk-parallel-item::before {content: \"\";position: absolute;border-left: 1px solid gray;box-sizing: border-box;top: 0;bottom: 0;left: 50%;z-index: -1;}#sk-container-id-1 div.sk-parallel-item {display: flex;flex-direction: column;z-index: 1;position: relative;background-color: white;}#sk-container-id-1 div.sk-parallel-item:first-child::after {align-self: flex-end;width: 50%;}#sk-container-id-1 div.sk-parallel-item:last-child::after {align-self: flex-start;width: 50%;}#sk-container-id-1 div.sk-parallel-item:only-child::after {width: 0;}#sk-container-id-1 div.sk-dashed-wrapped {border: 1px dashed gray;margin: 0 0.4em 0.5em 0.4em;box-sizing: border-box;padding-bottom: 0.4em;background-color: white;}#sk-container-id-1 div.sk-label label {font-family: monospace;font-weight: bold;display: inline-block;line-height: 1.2em;}#sk-container-id-1 div.sk-label-container {text-align: center;}#sk-container-id-1 div.sk-container {/* jupyter's `normalize.less` sets `[hidden] { display: none; }` but bootstrap.min.css set `[hidden] { display: none !important; }` so we also need the `!important` here to be able to override the default hidden behavior on the sphinx rendered scikit-learn.org. See: https://github.com/scikit-learn/scikit-learn/issues/21755 */display: inline-block !important;position: relative;}#sk-container-id-1 div.sk-text-repr-fallback {display: none;}</style><div id=\"sk-container-id-1\" class=\"sk-top-container\"><div class=\"sk-text-repr-fallback\"><pre>RandomForestClassifier(max_depth=7, max_features=2, min_samples_split=4,\n",
       "                       n_estimators=70, n_jobs=-1)</pre><b>In a Jupyter environment, please rerun this cell to show the HTML representation or trust the notebook. <br />On GitHub, the HTML representation is unable to render, please try loading this page with nbviewer.org.</b></div><div class=\"sk-container\" hidden><div class=\"sk-item\"><div class=\"sk-estimator sk-toggleable\"><input class=\"sk-toggleable__control sk-hidden--visually\" id=\"sk-estimator-id-1\" type=\"checkbox\" checked><label for=\"sk-estimator-id-1\" class=\"sk-toggleable__label sk-toggleable__label-arrow\">RandomForestClassifier</label><div class=\"sk-toggleable__content\"><pre>RandomForestClassifier(max_depth=7, max_features=2, min_samples_split=4,\n",
       "                       n_estimators=70, n_jobs=-1)</pre></div></div></div></div></div>"
      ],
      "text/plain": [
       "RandomForestClassifier(max_depth=7, max_features=2, min_samples_split=4,\n",
       "                       n_estimators=70, n_jobs=-1)"
      ]
     },
     "execution_count": 16,
     "metadata": {},
     "output_type": "execute_result"
    }
   ],
   "source": [
    "RF_grid_model.best_estimator_"
   ]
  },
  {
   "cell_type": "code",
   "execution_count": 17,
   "id": "9657b6b4",
   "metadata": {},
   "outputs": [
    {
     "data": {
      "text/plain": [
       "0.906069814555088"
      ]
     },
     "execution_count": 17,
     "metadata": {},
     "output_type": "execute_result"
    }
   ],
   "source": [
    "RF_grid_model.best_score_"
   ]
  },
  {
   "cell_type": "code",
   "execution_count": 18,
   "id": "e3045848",
   "metadata": {},
   "outputs": [],
   "source": [
    "RF_model = RandomForestClassifier(max_depth=7, max_features=4, n_estimators=40, n_jobs=-1)"
   ]
  },
  {
   "cell_type": "code",
   "execution_count": 19,
   "id": "8be30d48",
   "metadata": {},
   "outputs": [
    {
     "data": {
      "text/html": [
       "<style>#sk-container-id-2 {color: black;background-color: white;}#sk-container-id-2 pre{padding: 0;}#sk-container-id-2 div.sk-toggleable {background-color: white;}#sk-container-id-2 label.sk-toggleable__label {cursor: pointer;display: block;width: 100%;margin-bottom: 0;padding: 0.3em;box-sizing: border-box;text-align: center;}#sk-container-id-2 label.sk-toggleable__label-arrow:before {content: \"▸\";float: left;margin-right: 0.25em;color: #696969;}#sk-container-id-2 label.sk-toggleable__label-arrow:hover:before {color: black;}#sk-container-id-2 div.sk-estimator:hover label.sk-toggleable__label-arrow:before {color: black;}#sk-container-id-2 div.sk-toggleable__content {max-height: 0;max-width: 0;overflow: hidden;text-align: left;background-color: #f0f8ff;}#sk-container-id-2 div.sk-toggleable__content pre {margin: 0.2em;color: black;border-radius: 0.25em;background-color: #f0f8ff;}#sk-container-id-2 input.sk-toggleable__control:checked~div.sk-toggleable__content {max-height: 200px;max-width: 100%;overflow: auto;}#sk-container-id-2 input.sk-toggleable__control:checked~label.sk-toggleable__label-arrow:before {content: \"▾\";}#sk-container-id-2 div.sk-estimator input.sk-toggleable__control:checked~label.sk-toggleable__label {background-color: #d4ebff;}#sk-container-id-2 div.sk-label input.sk-toggleable__control:checked~label.sk-toggleable__label {background-color: #d4ebff;}#sk-container-id-2 input.sk-hidden--visually {border: 0;clip: rect(1px 1px 1px 1px);clip: rect(1px, 1px, 1px, 1px);height: 1px;margin: -1px;overflow: hidden;padding: 0;position: absolute;width: 1px;}#sk-container-id-2 div.sk-estimator {font-family: monospace;background-color: #f0f8ff;border: 1px dotted black;border-radius: 0.25em;box-sizing: border-box;margin-bottom: 0.5em;}#sk-container-id-2 div.sk-estimator:hover {background-color: #d4ebff;}#sk-container-id-2 div.sk-parallel-item::after {content: \"\";width: 100%;border-bottom: 1px solid gray;flex-grow: 1;}#sk-container-id-2 div.sk-label:hover label.sk-toggleable__label {background-color: #d4ebff;}#sk-container-id-2 div.sk-serial::before {content: \"\";position: absolute;border-left: 1px solid gray;box-sizing: border-box;top: 0;bottom: 0;left: 50%;z-index: 0;}#sk-container-id-2 div.sk-serial {display: flex;flex-direction: column;align-items: center;background-color: white;padding-right: 0.2em;padding-left: 0.2em;position: relative;}#sk-container-id-2 div.sk-item {position: relative;z-index: 1;}#sk-container-id-2 div.sk-parallel {display: flex;align-items: stretch;justify-content: center;background-color: white;position: relative;}#sk-container-id-2 div.sk-item::before, #sk-container-id-2 div.sk-parallel-item::before {content: \"\";position: absolute;border-left: 1px solid gray;box-sizing: border-box;top: 0;bottom: 0;left: 50%;z-index: -1;}#sk-container-id-2 div.sk-parallel-item {display: flex;flex-direction: column;z-index: 1;position: relative;background-color: white;}#sk-container-id-2 div.sk-parallel-item:first-child::after {align-self: flex-end;width: 50%;}#sk-container-id-2 div.sk-parallel-item:last-child::after {align-self: flex-start;width: 50%;}#sk-container-id-2 div.sk-parallel-item:only-child::after {width: 0;}#sk-container-id-2 div.sk-dashed-wrapped {border: 1px dashed gray;margin: 0 0.4em 0.5em 0.4em;box-sizing: border-box;padding-bottom: 0.4em;background-color: white;}#sk-container-id-2 div.sk-label label {font-family: monospace;font-weight: bold;display: inline-block;line-height: 1.2em;}#sk-container-id-2 div.sk-label-container {text-align: center;}#sk-container-id-2 div.sk-container {/* jupyter's `normalize.less` sets `[hidden] { display: none; }` but bootstrap.min.css set `[hidden] { display: none !important; }` so we also need the `!important` here to be able to override the default hidden behavior on the sphinx rendered scikit-learn.org. See: https://github.com/scikit-learn/scikit-learn/issues/21755 */display: inline-block !important;position: relative;}#sk-container-id-2 div.sk-text-repr-fallback {display: none;}</style><div id=\"sk-container-id-2\" class=\"sk-top-container\"><div class=\"sk-text-repr-fallback\"><pre>RandomForestClassifier(max_depth=7, max_features=4, n_estimators=40, n_jobs=-1)</pre><b>In a Jupyter environment, please rerun this cell to show the HTML representation or trust the notebook. <br />On GitHub, the HTML representation is unable to render, please try loading this page with nbviewer.org.</b></div><div class=\"sk-container\" hidden><div class=\"sk-item\"><div class=\"sk-estimator sk-toggleable\"><input class=\"sk-toggleable__control sk-hidden--visually\" id=\"sk-estimator-id-2\" type=\"checkbox\" checked><label for=\"sk-estimator-id-2\" class=\"sk-toggleable__label sk-toggleable__label-arrow\">RandomForestClassifier</label><div class=\"sk-toggleable__content\"><pre>RandomForestClassifier(max_depth=7, max_features=4, n_estimators=40, n_jobs=-1)</pre></div></div></div></div></div>"
      ],
      "text/plain": [
       "RandomForestClassifier(max_depth=7, max_features=4, n_estimators=40, n_jobs=-1)"
      ]
     },
     "execution_count": 19,
     "metadata": {},
     "output_type": "execute_result"
    }
   ],
   "source": [
    "RF_model.fit(x_train_RF, y)"
   ]
  },
  {
   "cell_type": "code",
   "execution_count": 26,
   "id": "5a4d4694",
   "metadata": {},
   "outputs": [
    {
     "name": "stdout",
     "output_type": "stream",
     "text": [
      "The scikit-learn version is 1.2.2.\n"
     ]
    }
   ],
   "source": [
    "import sklearn\n",
    "print('The scikit-learn version is {}.'.format(sklearn.__version__))"
   ]
  },
  {
   "cell_type": "code",
   "execution_count": 27,
   "id": "5913d503",
   "metadata": {},
   "outputs": [
    {
     "name": "stdout",
     "output_type": "stream",
     "text": [
      "WARNING:tensorflow:Compiled the loaded model, but the compiled metrics have yet to be built. `model.compile_metrics` will be empty until you train or evaluate the model.\n"
     ]
    },
    {
     "name": "stderr",
     "output_type": "stream",
     "text": [
      "C:\\Users\\adria\\AppData\\Roaming\\Python\\Python311\\site-packages\\keras\\src\\engine\\training.py:3103: UserWarning: You are saving your model as an HDF5 file via `model.save()`. This file format is considered legacy. We recommend using instead the native Keras format, e.g. `model.save('my_model.keras')`.\n",
      "  saving_api.save_model(\n"
     ]
    },
    {
     "data": {
      "text/plain": [
       "['RF_model.joblib']"
      ]
     },
     "execution_count": 27,
     "metadata": {},
     "output_type": "execute_result"
    }
   ],
   "source": [
    "feature_extractor.save('feature_extractor_model.h5')\n",
    "from joblib import dump, load\n",
    "dump(RF_model, 'RF_model.joblib')"
   ]
  }
 ],
 "metadata": {
  "kernelspec": {
   "display_name": "Python 3 (ipykernel)",
   "language": "python",
   "name": "python3"
  },
  "language_info": {
   "codemirror_mode": {
    "name": "ipython",
    "version": 3
   },
   "file_extension": ".py",
   "mimetype": "text/x-python",
   "name": "python",
   "nbconvert_exporter": "python",
   "pygments_lexer": "ipython3",
   "version": "3.11.3"
  }
 },
 "nbformat": 4,
 "nbformat_minor": 5
}
