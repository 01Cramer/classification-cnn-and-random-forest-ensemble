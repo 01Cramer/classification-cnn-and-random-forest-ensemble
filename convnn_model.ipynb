{
 "cells": [
  {
   "cell_type": "code",
   "execution_count": 1,
   "id": "9cc13163",
   "metadata": {
    "collapsed": true
   },
   "outputs": [
    {
     "name": "stdout",
     "output_type": "stream",
     "text": [
      "WARNING:tensorflow:From C:\\Users\\adria\\AppData\\Roaming\\Python\\Python311\\site-packages\\keras\\src\\losses.py:2976: The name tf.losses.sparse_softmax_cross_entropy is deprecated. Please use tf.compat.v1.losses.sparse_softmax_cross_entropy instead.\n",
      "\n"
     ]
    }
   ],
   "source": [
    "import tensorflow as tf\n",
    "from tensorflow.keras.preprocessing.image import ImageDataGenerator\n",
    "from tensorflow.keras.models import Sequential\n",
    "from tensorflow.keras.layers import Dense, Dropout, Activation, Flatten\n",
    "from tensorflow.keras.layers import Conv2D, MaxPooling2D"
   ]
  },
  {
   "cell_type": "code",
   "execution_count": 2,
   "id": "d31cad3b",
   "metadata": {},
   "outputs": [],
   "source": [
    "import pickle\n",
    "\n",
    "pickle_in = open(\"X.pickle\",\"rb\")\n",
    "X = pickle.load(pickle_in)\n",
    "\n",
    "pickle_in = open(\"y.pickle\",\"rb\")\n",
    "y = pickle.load(pickle_in)"
   ]
  },
  {
   "cell_type": "code",
   "execution_count": 3,
   "id": "f0d79f49",
   "metadata": {},
   "outputs": [],
   "source": [
    "X = X/255.0"
   ]
  },
  {
   "cell_type": "code",
   "execution_count": 4,
   "id": "a69eb5be",
   "metadata": {
    "collapsed": true
   },
   "outputs": [
    {
     "name": "stdout",
     "output_type": "stream",
     "text": [
      "WARNING:tensorflow:From C:\\Users\\adria\\AppData\\Roaming\\Python\\Python311\\site-packages\\keras\\src\\backend.py:873: The name tf.get_default_graph is deprecated. Please use tf.compat.v1.get_default_graph instead.\n",
      "\n"
     ]
    }
   ],
   "source": [
    "model = Sequential()"
   ]
  },
  {
   "cell_type": "code",
   "execution_count": 5,
   "id": "ba64412b",
   "metadata": {
    "collapsed": true
   },
   "outputs": [
    {
     "name": "stdout",
     "output_type": "stream",
     "text": [
      "WARNING:tensorflow:From C:\\Users\\adria\\AppData\\Roaming\\Python\\Python311\\site-packages\\keras\\src\\layers\\pooling\\max_pooling2d.py:161: The name tf.nn.max_pool is deprecated. Please use tf.nn.max_pool2d instead.\n",
      "\n"
     ]
    }
   ],
   "source": [
    "model.add(Conv2D(256, (3, 3), input_shape=X.shape[1:]))\n",
    "model.add(Activation('relu'))\n",
    "model.add(MaxPooling2D(pool_size=(2, 2)))"
   ]
  },
  {
   "cell_type": "code",
   "execution_count": 6,
   "id": "47491429",
   "metadata": {},
   "outputs": [],
   "source": [
    "model.add(Conv2D(256, (3, 3)))\n",
    "model.add(Activation('relu'))\n",
    "model.add(MaxPooling2D(pool_size=(2, 2)))"
   ]
  },
  {
   "cell_type": "code",
   "execution_count": 7,
   "id": "34ee458a",
   "metadata": {},
   "outputs": [],
   "source": [
    "model.add(Flatten())"
   ]
  },
  {
   "cell_type": "code",
   "execution_count": 8,
   "id": "ca5d038a",
   "metadata": {},
   "outputs": [],
   "source": [
    "model.add(Dense(64))"
   ]
  },
  {
   "cell_type": "code",
   "execution_count": 9,
   "id": "cc39e6b6",
   "metadata": {},
   "outputs": [],
   "source": [
    "model.add(Dense(5))\n",
    "model.add(Activation('softmax'))"
   ]
  },
  {
   "cell_type": "code",
   "execution_count": 10,
   "id": "2357c1b7",
   "metadata": {
    "collapsed": true
   },
   "outputs": [
    {
     "name": "stdout",
     "output_type": "stream",
     "text": [
      "WARNING:tensorflow:From C:\\Users\\adria\\AppData\\Roaming\\Python\\Python311\\site-packages\\keras\\src\\optimizers\\__init__.py:309: The name tf.train.Optimizer is deprecated. Please use tf.compat.v1.train.Optimizer instead.\n",
      "\n"
     ]
    }
   ],
   "source": [
    "model.compile(loss='sparse_categorical_crossentropy',\n",
    "              optimizer='adam',\n",
    "              metrics=['accuracy'])"
   ]
  },
  {
   "cell_type": "code",
   "execution_count": 11,
   "id": "ad4d1179",
   "metadata": {},
   "outputs": [
    {
     "name": "stdout",
     "output_type": "stream",
     "text": [
      "Epoch 1/30\n",
      "WARNING:tensorflow:From C:\\Users\\adria\\AppData\\Roaming\\Python\\Python311\\site-packages\\keras\\src\\utils\\tf_utils.py:492: The name tf.ragged.RaggedTensorValue is deprecated. Please use tf.compat.v1.ragged.RaggedTensorValue instead.\n",
      "\n",
      "WARNING:tensorflow:From C:\\Users\\adria\\AppData\\Roaming\\Python\\Python311\\site-packages\\keras\\src\\engine\\base_layer_utils.py:384: The name tf.executing_eagerly_outside_functions is deprecated. Please use tf.compat.v1.executing_eagerly_outside_functions instead.\n",
      "\n",
      "3/3 [==============================] - 2s 330ms/step - loss: 3.6387 - accuracy: 0.1573\n",
      "Epoch 2/30\n",
      "3/3 [==============================] - 1s 332ms/step - loss: 1.7026 - accuracy: 0.2022\n",
      "Epoch 3/30\n",
      "3/3 [==============================] - 1s 340ms/step - loss: 1.6022 - accuracy: 0.2247\n",
      "Epoch 4/30\n",
      "3/3 [==============================] - 1s 281ms/step - loss: 1.5810 - accuracy: 0.2247\n",
      "Epoch 5/30\n",
      "3/3 [==============================] - 1s 272ms/step - loss: 1.5822 - accuracy: 0.2584\n",
      "Epoch 6/30\n",
      "3/3 [==============================] - 1s 277ms/step - loss: 1.5726 - accuracy: 0.2584\n",
      "Epoch 7/30\n",
      "3/3 [==============================] - 1s 283ms/step - loss: 1.5679 - accuracy: 0.2584\n",
      "Epoch 8/30\n",
      "3/3 [==============================] - 1s 318ms/step - loss: 1.5458 - accuracy: 0.3933\n",
      "Epoch 9/30\n",
      "3/3 [==============================] - 1s 264ms/step - loss: 1.5221 - accuracy: 0.4382\n",
      "Epoch 10/30\n",
      "3/3 [==============================] - 1s 266ms/step - loss: 1.4745 - accuracy: 0.4045\n",
      "Epoch 11/30\n",
      "3/3 [==============================] - 1s 272ms/step - loss: 1.4252 - accuracy: 0.4157\n",
      "Epoch 12/30\n",
      "3/3 [==============================] - 1s 292ms/step - loss: 1.3632 - accuracy: 0.5618\n",
      "Epoch 13/30\n",
      "3/3 [==============================] - 1s 296ms/step - loss: 1.2986 - accuracy: 0.5506\n",
      "Epoch 14/30\n",
      "3/3 [==============================] - 1s 279ms/step - loss: 1.2006 - accuracy: 0.4719\n",
      "Epoch 15/30\n",
      "3/3 [==============================] - 1s 276ms/step - loss: 1.1167 - accuracy: 0.5730\n",
      "Epoch 16/30\n",
      "3/3 [==============================] - 1s 299ms/step - loss: 0.9830 - accuracy: 0.7079\n",
      "Epoch 17/30\n",
      "3/3 [==============================] - 1s 269ms/step - loss: 0.8768 - accuracy: 0.6742\n",
      "Epoch 18/30\n",
      "3/3 [==============================] - 1s 272ms/step - loss: 0.8594 - accuracy: 0.6629\n",
      "Epoch 19/30\n",
      "3/3 [==============================] - 1s 272ms/step - loss: 0.8509 - accuracy: 0.6180\n",
      "Epoch 20/30\n",
      "3/3 [==============================] - 1s 264ms/step - loss: 0.8520 - accuracy: 0.6180\n",
      "Epoch 21/30\n",
      "3/3 [==============================] - 1s 270ms/step - loss: 0.8248 - accuracy: 0.5843\n",
      "Epoch 22/30\n",
      "3/3 [==============================] - 1s 263ms/step - loss: 0.9130 - accuracy: 0.6067\n",
      "Epoch 23/30\n",
      "3/3 [==============================] - 1s 271ms/step - loss: 0.7309 - accuracy: 0.7079\n",
      "Epoch 24/30\n",
      "3/3 [==============================] - 1s 288ms/step - loss: 0.6745 - accuracy: 0.7753\n",
      "Epoch 25/30\n",
      "3/3 [==============================] - 1s 279ms/step - loss: 0.6382 - accuracy: 0.7528\n",
      "Epoch 26/30\n",
      "3/3 [==============================] - 1s 269ms/step - loss: 0.5778 - accuracy: 0.8652\n",
      "Epoch 27/30\n",
      "3/3 [==============================] - 1s 267ms/step - loss: 0.5121 - accuracy: 0.8876\n",
      "Epoch 28/30\n",
      "3/3 [==============================] - 1s 273ms/step - loss: 0.4828 - accuracy: 0.8315\n",
      "Epoch 29/30\n",
      "3/3 [==============================] - 1s 261ms/step - loss: 0.4539 - accuracy: 0.8876\n",
      "Epoch 30/30\n",
      "3/3 [==============================] - 1s 269ms/step - loss: 0.4311 - accuracy: 0.8652\n",
      "INFO:tensorflow:Assets written to: CNN_leafs.model\\assets\n"
     ]
    },
    {
     "name": "stderr",
     "output_type": "stream",
     "text": [
      "INFO:tensorflow:Assets written to: CNN_leafs.model\\assets\n"
     ]
    }
   ],
   "source": [
    "model.fit(X, y, epochs=30)\n",
    "model.save('CNN_leafs.model')"
   ]
  }
 ],
 "metadata": {
  "kernelspec": {
   "display_name": "Python 3 (ipykernel)",
   "language": "python",
   "name": "python3"
  },
  "language_info": {
   "codemirror_mode": {
    "name": "ipython",
    "version": 3
   },
   "file_extension": ".py",
   "mimetype": "text/x-python",
   "name": "python",
   "nbconvert_exporter": "python",
   "pygments_lexer": "ipython3",
   "version": "3.11.3"
  }
 },
 "nbformat": 4,
 "nbformat_minor": 5
}
