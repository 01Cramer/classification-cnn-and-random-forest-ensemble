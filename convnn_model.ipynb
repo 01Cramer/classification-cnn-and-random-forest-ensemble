{
 "cells": [
  {
   "cell_type": "code",
   "execution_count": 89,
   "id": "9cc13163",
   "metadata": {},
   "outputs": [],
   "source": [
    "import tensorflow as tf\n",
    "from tensorflow.keras.preprocessing.image import ImageDataGenerator\n",
    "from tensorflow.keras.models import Sequential\n",
    "from tensorflow.keras.layers import Dense, Dropout, Activation, Flatten\n",
    "from tensorflow.keras.layers import Conv2D, MaxPooling2D\n",
    "from tensorflow.keras.callbacks import TensorBoard"
   ]
  },
  {
   "cell_type": "code",
   "execution_count": 90,
   "id": "d31cad3b",
   "metadata": {},
   "outputs": [],
   "source": [
    "import pickle\n",
    "import time\n",
    "\n",
    "NAME = 'CNN_leafs-{}'.format(int(time.time()))\n",
    "\n",
    "tensorboard = TensorBoard(log_dir='C:/Users/Artur/logs/{}'.format(NAME))\n",
    "\n",
    "pickle_in = open(\"X.pickle\",\"rb\")\n",
    "X = pickle.load(pickle_in)\n",
    "\n",
    "pickle_in = open(\"y.pickle\",\"rb\")\n",
    "y = pickle.load(pickle_in)"
   ]
  },
  {
   "cell_type": "code",
   "execution_count": 91,
   "id": "f0d79f49",
   "metadata": {},
   "outputs": [],
   "source": [
    "X = X/255.0"
   ]
  },
  {
   "cell_type": "code",
   "execution_count": 92,
   "id": "a69eb5be",
   "metadata": {},
   "outputs": [],
   "source": [
    "model = Sequential()"
   ]
  },
  {
   "cell_type": "code",
   "execution_count": 93,
   "id": "ba64412b",
   "metadata": {},
   "outputs": [],
   "source": [
    "model.add(Conv2D(256, (3, 3), input_shape=X.shape[1:]))\n",
    "model.add(Activation('relu'))\n",
    "model.add(MaxPooling2D(pool_size=(2, 2)))"
   ]
  },
  {
   "cell_type": "code",
   "execution_count": 94,
   "id": "47491429",
   "metadata": {},
   "outputs": [],
   "source": [
    "model.add(Conv2D(256, (3, 3)))\n",
    "model.add(Activation('relu'))\n",
    "model.add(MaxPooling2D(pool_size=(2, 2)))"
   ]
  },
  {
   "cell_type": "code",
   "execution_count": 95,
   "id": "34ee458a",
   "metadata": {},
   "outputs": [],
   "source": [
    "model.add(Flatten())"
   ]
  },
  {
   "cell_type": "code",
   "execution_count": 96,
   "id": "ca5d038a",
   "metadata": {},
   "outputs": [],
   "source": [
    "model.add(Dense(64))\n",
    "model.add(Activation('relu'))"
   ]
  },
  {
   "cell_type": "code",
   "execution_count": 97,
   "id": "cc39e6b6",
   "metadata": {},
   "outputs": [],
   "source": [
    "model.add(Dense(5))\n",
    "model.add(Activation('softmax'))"
   ]
  },
  {
   "cell_type": "code",
   "execution_count": 98,
   "id": "2357c1b7",
   "metadata": {},
   "outputs": [],
   "source": [
    "model.compile(loss='sparse_categorical_crossentropy',\n",
    "              optimizer='adam',\n",
    "              metrics=['accuracy'])"
   ]
  },
  {
   "cell_type": "code",
   "execution_count": 99,
   "id": "ad4d1179",
   "metadata": {},
   "outputs": [
    {
     "name": "stdout",
     "output_type": "stream",
     "text": [
      "Epoch 1/43\n"
     ]
    },
    {
     "name": "stdout",
     "output_type": "stream",
     "text": [
      "4/4 [==============================] - 3s 626ms/step - loss: 2.0404 - accuracy: 0.2743 - val_loss: 1.5941 - val_accuracy: 0.2449\n",
      "Epoch 2/43\n",
      "4/4 [==============================] - 2s 521ms/step - loss: 1.6408 - accuracy: 0.2124 - val_loss: 1.5906 - val_accuracy: 0.2449\n",
      "Epoch 3/43\n",
      "4/4 [==============================] - 2s 430ms/step - loss: 1.6078 - accuracy: 0.2124 - val_loss: 1.6057 - val_accuracy: 0.2449\n",
      "Epoch 4/43\n",
      "4/4 [==============================] - 2s 420ms/step - loss: 1.6034 - accuracy: 0.2212 - val_loss: 1.6061 - val_accuracy: 0.2857\n",
      "Epoch 5/43\n",
      "4/4 [==============================] - 2s 416ms/step - loss: 1.5930 - accuracy: 0.2124 - val_loss: 1.6109 - val_accuracy: 0.1429\n",
      "Epoch 6/43\n",
      "4/4 [==============================] - 2s 390ms/step - loss: 1.5720 - accuracy: 0.2212 - val_loss: 1.6143 - val_accuracy: 0.2449\n",
      "Epoch 7/43\n",
      "4/4 [==============================] - 1s 317ms/step - loss: 1.5654 - accuracy: 0.2124 - val_loss: 1.5885 - val_accuracy: 0.2449\n",
      "Epoch 8/43\n",
      "4/4 [==============================] - 1s 363ms/step - loss: 1.5623 - accuracy: 0.2743 - val_loss: 1.5846 - val_accuracy: 0.3265\n",
      "Epoch 9/43\n",
      "4/4 [==============================] - 1s 341ms/step - loss: 1.5370 - accuracy: 0.3186 - val_loss: 1.5870 - val_accuracy: 0.2857\n",
      "Epoch 10/43\n",
      "4/4 [==============================] - 1s 333ms/step - loss: 1.5188 - accuracy: 0.2566 - val_loss: 1.5546 - val_accuracy: 0.3265\n",
      "Epoch 11/43\n",
      "4/4 [==============================] - 1s 313ms/step - loss: 1.5021 - accuracy: 0.3540 - val_loss: 1.5457 - val_accuracy: 0.4082\n",
      "Epoch 12/43\n",
      "4/4 [==============================] - 1s 332ms/step - loss: 1.4560 - accuracy: 0.3894 - val_loss: 1.5072 - val_accuracy: 0.3265\n",
      "Epoch 13/43\n",
      "4/4 [==============================] - 1s 318ms/step - loss: 1.4187 - accuracy: 0.3451 - val_loss: 1.4398 - val_accuracy: 0.4082\n",
      "Epoch 14/43\n",
      "4/4 [==============================] - 2s 419ms/step - loss: 1.3788 - accuracy: 0.4071 - val_loss: 1.3761 - val_accuracy: 0.4082\n",
      "Epoch 15/43\n",
      "4/4 [==============================] - 2s 559ms/step - loss: 1.3630 - accuracy: 0.3805 - val_loss: 1.3416 - val_accuracy: 0.4286\n",
      "Epoch 16/43\n",
      "4/4 [==============================] - 2s 420ms/step - loss: 1.2816 - accuracy: 0.5133 - val_loss: 1.3612 - val_accuracy: 0.4286\n",
      "Epoch 17/43\n",
      "4/4 [==============================] - 1s 360ms/step - loss: 1.2134 - accuracy: 0.5310 - val_loss: 1.4414 - val_accuracy: 0.4694\n",
      "Epoch 18/43\n",
      "4/4 [==============================] - 1s 335ms/step - loss: 1.2138 - accuracy: 0.4602 - val_loss: 1.2583 - val_accuracy: 0.4490\n",
      "Epoch 19/43\n",
      "4/4 [==============================] - 2s 394ms/step - loss: 1.1134 - accuracy: 0.5575 - val_loss: 1.2292 - val_accuracy: 0.4286\n",
      "Epoch 20/43\n",
      "4/4 [==============================] - 1s 371ms/step - loss: 1.1172 - accuracy: 0.4867 - val_loss: 1.1811 - val_accuracy: 0.5306\n",
      "Epoch 21/43\n",
      "4/4 [==============================] - 2s 381ms/step - loss: 1.0456 - accuracy: 0.5664 - val_loss: 1.1411 - val_accuracy: 0.5306\n",
      "Epoch 22/43\n",
      "4/4 [==============================] - 1s 318ms/step - loss: 0.9825 - accuracy: 0.5664 - val_loss: 1.2412 - val_accuracy: 0.4490\n",
      "Epoch 23/43\n",
      "4/4 [==============================] - 1s 346ms/step - loss: 0.9423 - accuracy: 0.5929 - val_loss: 1.1423 - val_accuracy: 0.5510\n",
      "Epoch 24/43\n",
      "4/4 [==============================] - 2s 317ms/step - loss: 0.8862 - accuracy: 0.6372 - val_loss: 1.0524 - val_accuracy: 0.5102\n",
      "Epoch 25/43\n",
      "4/4 [==============================] - 2s 399ms/step - loss: 0.8219 - accuracy: 0.6372 - val_loss: 1.0693 - val_accuracy: 0.5714\n",
      "Epoch 26/43\n",
      "4/4 [==============================] - 2s 427ms/step - loss: 0.8434 - accuracy: 0.6637 - val_loss: 1.1808 - val_accuracy: 0.5714\n",
      "Epoch 27/43\n",
      "4/4 [==============================] - 2s 392ms/step - loss: 0.7920 - accuracy: 0.6195 - val_loss: 0.9875 - val_accuracy: 0.6122\n",
      "Epoch 28/43\n",
      "4/4 [==============================] - 1s 337ms/step - loss: 0.8129 - accuracy: 0.6903 - val_loss: 0.9676 - val_accuracy: 0.5714\n",
      "Epoch 29/43\n",
      "4/4 [==============================] - 1s 319ms/step - loss: 0.6862 - accuracy: 0.7434 - val_loss: 1.0227 - val_accuracy: 0.5510\n",
      "Epoch 30/43\n",
      "4/4 [==============================] - 1s 330ms/step - loss: 0.6309 - accuracy: 0.7788 - val_loss: 1.0337 - val_accuracy: 0.6327\n",
      "Epoch 31/43\n",
      "4/4 [==============================] - 1s 325ms/step - loss: 0.6116 - accuracy: 0.7611 - val_loss: 1.0385 - val_accuracy: 0.5714\n",
      "Epoch 32/43\n",
      "4/4 [==============================] - 2s 430ms/step - loss: 0.5544 - accuracy: 0.8142 - val_loss: 0.9875 - val_accuracy: 0.5714\n",
      "Epoch 33/43\n",
      "4/4 [==============================] - 1s 316ms/step - loss: 0.5516 - accuracy: 0.7876 - val_loss: 0.9241 - val_accuracy: 0.6327\n",
      "Epoch 34/43\n",
      "4/4 [==============================] - 1s 326ms/step - loss: 0.5605 - accuracy: 0.8053 - val_loss: 1.0009 - val_accuracy: 0.6122\n",
      "Epoch 35/43\n",
      "4/4 [==============================] - 1s 337ms/step - loss: 0.5039 - accuracy: 0.8496 - val_loss: 0.9750 - val_accuracy: 0.6122\n",
      "Epoch 36/43\n",
      "4/4 [==============================] - 2s 404ms/step - loss: 0.4840 - accuracy: 0.8319 - val_loss: 0.9147 - val_accuracy: 0.6531\n",
      "Epoch 37/43\n",
      "4/4 [==============================] - 2s 388ms/step - loss: 0.4243 - accuracy: 0.8584 - val_loss: 1.2920 - val_accuracy: 0.5306\n",
      "Epoch 38/43\n",
      "4/4 [==============================] - 2s 386ms/step - loss: 0.5088 - accuracy: 0.7876 - val_loss: 0.9407 - val_accuracy: 0.6735\n",
      "Epoch 39/43\n",
      "4/4 [==============================] - 1s 367ms/step - loss: 0.4764 - accuracy: 0.8319 - val_loss: 0.8766 - val_accuracy: 0.6122\n",
      "Epoch 40/43\n",
      "4/4 [==============================] - 1s 356ms/step - loss: 0.4397 - accuracy: 0.8496 - val_loss: 0.8226 - val_accuracy: 0.6327\n",
      "Epoch 41/43\n",
      "4/4 [==============================] - 1s 344ms/step - loss: 0.5176 - accuracy: 0.7965 - val_loss: 0.9093 - val_accuracy: 0.6327\n",
      "Epoch 42/43\n",
      "4/4 [==============================] - 1s 344ms/step - loss: 0.3931 - accuracy: 0.8673 - val_loss: 0.8704 - val_accuracy: 0.6939\n",
      "Epoch 43/43\n",
      "4/4 [==============================] - 1s 334ms/step - loss: 0.4167 - accuracy: 0.8496 - val_loss: 1.0158 - val_accuracy: 0.5918\n",
      "INFO:tensorflow:Assets written to: CNN_leafs.model\\assets\n"
     ]
    },
    {
     "name": "stderr",
     "output_type": "stream",
     "text": [
      "INFO:tensorflow:Assets written to: CNN_leafs.model\\assets\n"
     ]
    }
   ],
   "source": [
    "model.fit(X, y, epochs=43, validation_split=0.3, callbacks=[tensorboard])\n",
    "model.save('CNN_leafs.model')"
   ]
  }
 ],
 "metadata": {
  "kernelspec": {
   "display_name": "Python 3 (ipykernel)",
   "language": "python",
   "name": "python3"
  },
  "language_info": {
   "codemirror_mode": {
    "name": "ipython",
    "version": 3
   },
   "file_extension": ".py",
   "mimetype": "text/x-python",
   "name": "python",
   "nbconvert_exporter": "python",
   "pygments_lexer": "ipython3",
   "version": "3.9.18"
  }
 },
 "nbformat": 4,
 "nbformat_minor": 5
}
