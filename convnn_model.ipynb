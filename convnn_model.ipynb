{
 "cells": [
  {
   "cell_type": "code",
   "execution_count": 1,
   "id": "9cc13163",
   "metadata": {},
   "outputs": [
    {
     "name": "stdout",
     "output_type": "stream",
     "text": [
      "WARNING:tensorflow:From C:\\Users\\adria\\AppData\\Roaming\\Python\\Python311\\site-packages\\keras\\src\\losses.py:2976: The name tf.losses.sparse_softmax_cross_entropy is deprecated. Please use tf.compat.v1.losses.sparse_softmax_cross_entropy instead.\n",
      "\n"
     ]
    }
   ],
   "source": [
    "import tensorflow as tf\n",
    "from tensorflow.keras.preprocessing.image import ImageDataGenerator\n",
    "from tensorflow.keras.models import Sequential\n",
    "from tensorflow.keras.layers import Dense, Dropout, Activation, Flatten\n",
    "from tensorflow.keras.layers import Conv2D, MaxPooling2D\n",
    "from tensorflow.keras.callbacks import TensorBoard"
   ]
  },
  {
   "cell_type": "code",
   "execution_count": 2,
   "id": "d31cad3b",
   "metadata": {},
   "outputs": [],
   "source": [
    "import pickle\n",
    "import time\n",
    "\n",
    "pickle_in = open(\"X.pickle\",\"rb\")\n",
    "X = pickle.load(pickle_in)\n",
    "\n",
    "pickle_in = open(\"y.pickle\",\"rb\")\n",
    "y = pickle.load(pickle_in)"
   ]
  },
  {
   "cell_type": "code",
   "execution_count": 3,
   "id": "f0d79f49",
   "metadata": {},
   "outputs": [],
   "source": [
    "X = X/255.0"
   ]
  },
  {
   "cell_type": "code",
   "execution_count": 4,
   "id": "f8169b1e",
   "metadata": {},
   "outputs": [
    {
     "name": "stdout",
     "output_type": "stream",
     "text": [
      "(236, 150, 150, 3)\n"
     ]
    }
   ],
   "source": [
    "print(X.shape)"
   ]
  },
  {
   "cell_type": "code",
   "execution_count": 5,
   "id": "5079867a",
   "metadata": {},
   "outputs": [],
   "source": [
    "dense_layers = [1]\n",
    "layer_sizes = [64]\n",
    "conv_layers = [3]"
   ]
  },
  {
   "cell_type": "code",
   "execution_count": 6,
   "id": "bb90530e",
   "metadata": {},
   "outputs": [],
   "source": [
    "from sklearn.model_selection import train_test_split\n",
    "X_train, X_val, y_train, y_val = train_test_split(X, y, test_size=0.1, random_state=1)"
   ]
  },
  {
   "cell_type": "code",
   "execution_count": 7,
   "id": "b10bfc87",
   "metadata": {},
   "outputs": [
    {
     "name": "stdout",
     "output_type": "stream",
     "text": [
      "3-conv-64-nodes-1-dense1704991192\n",
      "WARNING:tensorflow:From C:\\Users\\adria\\AppData\\Roaming\\Python\\Python311\\site-packages\\keras\\src\\backend.py:873: The name tf.get_default_graph is deprecated. Please use tf.compat.v1.get_default_graph instead.\n",
      "\n",
      "WARNING:tensorflow:From C:\\Users\\adria\\AppData\\Roaming\\Python\\Python311\\site-packages\\keras\\src\\layers\\pooling\\max_pooling2d.py:161: The name tf.nn.max_pool is deprecated. Please use tf.nn.max_pool2d instead.\n",
      "\n",
      "WARNING:tensorflow:From C:\\Users\\adria\\AppData\\Roaming\\Python\\Python311\\site-packages\\keras\\src\\optimizers\\__init__.py:309: The name tf.train.Optimizer is deprecated. Please use tf.compat.v1.train.Optimizer instead.\n",
      "\n",
      "Epoch 1/30\n",
      "WARNING:tensorflow:From C:\\Users\\adria\\AppData\\Roaming\\Python\\Python311\\site-packages\\keras\\src\\utils\\tf_utils.py:492: The name tf.ragged.RaggedTensorValue is deprecated. Please use tf.compat.v1.ragged.RaggedTensorValue instead.\n",
      "\n",
      "WARNING:tensorflow:From C:\\Users\\adria\\AppData\\Roaming\\Python\\Python311\\site-packages\\keras\\src\\engine\\base_layer_utils.py:384: The name tf.executing_eagerly_outside_functions is deprecated. Please use tf.compat.v1.executing_eagerly_outside_functions instead.\n",
      "\n",
      "7/7 [==============================] - 4s 399ms/step - loss: 2.1218 - accuracy: 0.2594 - val_loss: 1.5778 - val_accuracy: 0.1250\n",
      "Epoch 2/30\n",
      "7/7 [==============================] - 3s 360ms/step - loss: 1.5914 - accuracy: 0.1981 - val_loss: 1.5195 - val_accuracy: 0.2917\n",
      "Epoch 3/30\n",
      "7/7 [==============================] - 3s 353ms/step - loss: 1.5642 - accuracy: 0.2500 - val_loss: 1.5177 - val_accuracy: 0.2083\n",
      "Epoch 4/30\n",
      "7/7 [==============================] - 2s 337ms/step - loss: 1.4564 - accuracy: 0.2736 - val_loss: 1.1737 - val_accuracy: 0.5417\n",
      "Epoch 5/30\n",
      "7/7 [==============================] - 2s 336ms/step - loss: 1.2646 - accuracy: 0.4104 - val_loss: 0.9503 - val_accuracy: 0.5833\n",
      "Epoch 6/30\n",
      "7/7 [==============================] - 2s 322ms/step - loss: 1.2078 - accuracy: 0.4340 - val_loss: 1.0068 - val_accuracy: 0.4583\n",
      "Epoch 7/30\n",
      "7/7 [==============================] - 2s 332ms/step - loss: 0.9667 - accuracy: 0.6226 - val_loss: 0.7166 - val_accuracy: 0.6667\n",
      "Epoch 8/30\n",
      "7/7 [==============================] - 2s 352ms/step - loss: 0.7364 - accuracy: 0.7311 - val_loss: 0.6962 - val_accuracy: 0.6667\n",
      "Epoch 9/30\n",
      "7/7 [==============================] - 2s 344ms/step - loss: 0.6706 - accuracy: 0.7264 - val_loss: 0.7333 - val_accuracy: 0.6667\n",
      "Epoch 10/30\n",
      "7/7 [==============================] - 2s 325ms/step - loss: 0.5847 - accuracy: 0.7830 - val_loss: 0.3847 - val_accuracy: 0.9167\n",
      "Epoch 11/30\n",
      "7/7 [==============================] - 2s 329ms/step - loss: 0.4251 - accuracy: 0.8302 - val_loss: 0.4350 - val_accuracy: 0.8333\n",
      "Epoch 12/30\n",
      "7/7 [==============================] - 2s 328ms/step - loss: 0.3584 - accuracy: 0.8443 - val_loss: 0.4183 - val_accuracy: 0.8333\n",
      "Epoch 13/30\n",
      "7/7 [==============================] - 2s 323ms/step - loss: 0.3180 - accuracy: 0.8821 - val_loss: 0.5727 - val_accuracy: 0.5833\n",
      "Epoch 14/30\n",
      "7/7 [==============================] - 2s 325ms/step - loss: 0.2962 - accuracy: 0.8679 - val_loss: 0.3463 - val_accuracy: 0.7917\n",
      "Epoch 15/30\n",
      "7/7 [==============================] - 2s 356ms/step - loss: 0.2427 - accuracy: 0.9057 - val_loss: 0.3843 - val_accuracy: 0.8333\n",
      "Epoch 16/30\n",
      "7/7 [==============================] - 2s 336ms/step - loss: 0.2831 - accuracy: 0.8821 - val_loss: 0.3754 - val_accuracy: 0.8333\n",
      "Epoch 17/30\n",
      "7/7 [==============================] - 2s 328ms/step - loss: 0.1893 - accuracy: 0.9387 - val_loss: 0.2709 - val_accuracy: 0.8750\n",
      "Epoch 18/30\n",
      "7/7 [==============================] - 2s 331ms/step - loss: 0.1192 - accuracy: 0.9717 - val_loss: 0.2892 - val_accuracy: 0.9167\n",
      "Epoch 19/30\n",
      "7/7 [==============================] - 2s 328ms/step - loss: 0.1250 - accuracy: 0.9528 - val_loss: 0.2403 - val_accuracy: 0.9167\n",
      "Epoch 20/30\n",
      "7/7 [==============================] - 2s 333ms/step - loss: 0.0777 - accuracy: 0.9764 - val_loss: 0.2935 - val_accuracy: 0.9167\n",
      "Epoch 21/30\n",
      "7/7 [==============================] - 2s 329ms/step - loss: 0.0557 - accuracy: 0.9906 - val_loss: 0.1862 - val_accuracy: 0.9167\n",
      "Epoch 22/30\n",
      "7/7 [==============================] - 2s 324ms/step - loss: 0.0454 - accuracy: 0.9906 - val_loss: 0.2122 - val_accuracy: 0.9583\n",
      "Epoch 23/30\n",
      "7/7 [==============================] - 2s 327ms/step - loss: 0.0390 - accuracy: 0.9953 - val_loss: 0.2121 - val_accuracy: 0.9167\n",
      "Epoch 24/30\n",
      "7/7 [==============================] - 2s 328ms/step - loss: 0.0271 - accuracy: 1.0000 - val_loss: 0.2157 - val_accuracy: 0.9167\n",
      "Epoch 25/30\n",
      "7/7 [==============================] - 2s 339ms/step - loss: 0.0295 - accuracy: 0.9953 - val_loss: 0.1980 - val_accuracy: 0.9583\n",
      "Epoch 26/30\n",
      "7/7 [==============================] - 2s 327ms/step - loss: 0.0222 - accuracy: 1.0000 - val_loss: 0.2333 - val_accuracy: 0.9167\n",
      "Epoch 27/30\n",
      "7/7 [==============================] - 2s 330ms/step - loss: 0.0159 - accuracy: 1.0000 - val_loss: 0.2188 - val_accuracy: 0.8750\n",
      "Epoch 28/30\n",
      "7/7 [==============================] - 2s 339ms/step - loss: 0.0095 - accuracy: 1.0000 - val_loss: 0.2039 - val_accuracy: 0.9167\n",
      "Epoch 29/30\n",
      "7/7 [==============================] - 2s 332ms/step - loss: 0.0088 - accuracy: 1.0000 - val_loss: 0.2227 - val_accuracy: 0.9167\n",
      "Epoch 30/30\n",
      "7/7 [==============================] - 2s 327ms/step - loss: 0.0054 - accuracy: 1.0000 - val_loss: 0.2232 - val_accuracy: 0.9167\n"
     ]
    }
   ],
   "source": [
    "for dense_layer in dense_layers:\n",
    "    for layer_size in layer_sizes:\n",
    "        for conv_layer in conv_layers:\n",
    "            NAME = \"{}-conv-{}-nodes-{}-dense{}\".format(conv_layer, layer_size, dense_layer, int(time.time()))\n",
    "            tensorboard = TensorBoard(log_dir='logs/{}'.format(NAME))\n",
    "            print(NAME)\n",
    "            \n",
    "            model = Sequential()\n",
    "            \n",
    "            model.add(Conv2D(layer_size, (3, 3), input_shape=X.shape[1:]))\n",
    "            model.add(Activation('relu'))\n",
    "            model.add(MaxPooling2D(pool_size=(2, 2)))\n",
    "            \n",
    "            for l in range(conv_layer-1):\n",
    "                model.add(Conv2D(layer_size, (3,3)))\n",
    "                model.add(Activation('relu'))\n",
    "                model.add(MaxPooling2D(pool_size=(2, 2)))\n",
    "                \n",
    "            model.add(Flatten())\n",
    "            for l in range(dense_layer):\n",
    "                model.add(Dense(128))\n",
    "                model.add(Activation('relu'))\n",
    "            \n",
    "            model.add(Dense(5))\n",
    "            model.add(Activation('softmax'))\n",
    "            \n",
    "            model.compile(loss='sparse_categorical_crossentropy',\n",
    "              optimizer='adam',\n",
    "              metrics=['accuracy'])\n",
    "            \n",
    "            model.fit(X_train, y_train, epochs=30, validation_data=(X_val, y_val), callbacks=[tensorboard])"
   ]
  },
  {
   "cell_type": "code",
   "execution_count": 8,
   "id": "ad4d1179",
   "metadata": {},
   "outputs": [
    {
     "name": "stdout",
     "output_type": "stream",
     "text": [
      "INFO:tensorflow:Assets written to: CNN_leafs.model\\assets\n"
     ]
    },
    {
     "name": "stderr",
     "output_type": "stream",
     "text": [
      "INFO:tensorflow:Assets written to: CNN_leafs.model\\assets\n"
     ]
    }
   ],
   "source": [
    "model.save('CNN_leafs.model')"
   ]
  }
 ],
 "metadata": {
  "kernelspec": {
   "display_name": "Python 3 (ipykernel)",
   "language": "python",
   "name": "python3"
  },
  "language_info": {
   "codemirror_mode": {
    "name": "ipython",
    "version": 3
   },
   "file_extension": ".py",
   "mimetype": "text/x-python",
   "name": "python",
   "nbconvert_exporter": "python",
   "pygments_lexer": "ipython3",
   "version": "3.11.3"
  }
 },
 "nbformat": 4,
 "nbformat_minor": 5
}
