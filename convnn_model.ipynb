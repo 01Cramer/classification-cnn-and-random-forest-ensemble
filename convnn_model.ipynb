{
 "cells": [
  {
   "cell_type": "code",
   "execution_count": 1,
   "id": "9cc13163",
   "metadata": {},
   "outputs": [
    {
     "name": "stdout",
     "output_type": "stream",
     "text": [
      "WARNING:tensorflow:From C:\\Users\\adria\\AppData\\Roaming\\Python\\Python311\\site-packages\\keras\\src\\losses.py:2976: The name tf.losses.sparse_softmax_cross_entropy is deprecated. Please use tf.compat.v1.losses.sparse_softmax_cross_entropy instead.\n",
      "\n"
     ]
    }
   ],
   "source": [
    "import tensorflow as tf\n",
    "from tensorflow.keras.preprocessing.image import ImageDataGenerator\n",
    "from tensorflow.keras.models import Sequential\n",
    "from tensorflow.keras.layers import Dense, Dropout, Activation, Flatten\n",
    "from tensorflow.keras.layers import Conv2D, MaxPooling2D"
   ]
  },
  {
   "cell_type": "code",
   "execution_count": 2,
   "id": "d31cad3b",
   "metadata": {},
   "outputs": [],
   "source": [
    "import pickle\n",
    "\n",
    "pickle_in = open(\"X.pickle\",\"rb\")\n",
    "X = pickle.load(pickle_in)\n",
    "\n",
    "pickle_in = open(\"y.pickle\",\"rb\")\n",
    "y = pickle.load(pickle_in)"
   ]
  },
  {
   "cell_type": "code",
   "execution_count": 3,
   "id": "f0d79f49",
   "metadata": {},
   "outputs": [],
   "source": [
    "X = X/255.0"
   ]
  },
  {
   "cell_type": "code",
   "execution_count": 4,
   "id": "a69eb5be",
   "metadata": {},
   "outputs": [
    {
     "name": "stdout",
     "output_type": "stream",
     "text": [
      "WARNING:tensorflow:From C:\\Users\\adria\\AppData\\Roaming\\Python\\Python311\\site-packages\\keras\\src\\backend.py:873: The name tf.get_default_graph is deprecated. Please use tf.compat.v1.get_default_graph instead.\n",
      "\n"
     ]
    }
   ],
   "source": [
    "model = Sequential()"
   ]
  },
  {
   "cell_type": "code",
   "execution_count": 5,
   "id": "ba64412b",
   "metadata": {},
   "outputs": [
    {
     "name": "stdout",
     "output_type": "stream",
     "text": [
      "WARNING:tensorflow:From C:\\Users\\adria\\AppData\\Roaming\\Python\\Python311\\site-packages\\keras\\src\\layers\\pooling\\max_pooling2d.py:161: The name tf.nn.max_pool is deprecated. Please use tf.nn.max_pool2d instead.\n",
      "\n"
     ]
    }
   ],
   "source": [
    "model.add(Conv2D(256, (3, 3), input_shape=X.shape[1:]))\n",
    "model.add(Activation('relu'))\n",
    "model.add(MaxPooling2D(pool_size=(2, 2)))"
   ]
  },
  {
   "cell_type": "code",
   "execution_count": 6,
   "id": "47491429",
   "metadata": {},
   "outputs": [],
   "source": [
    "model.add(Conv2D(256, (3, 3)))\n",
    "model.add(Activation('relu'))\n",
    "model.add(MaxPooling2D(pool_size=(2, 2)))"
   ]
  },
  {
   "cell_type": "code",
   "execution_count": 7,
   "id": "34ee458a",
   "metadata": {},
   "outputs": [],
   "source": [
    "model.add(Flatten())"
   ]
  },
  {
   "cell_type": "code",
   "execution_count": 8,
   "id": "ca5d038a",
   "metadata": {},
   "outputs": [],
   "source": [
    "model.add(Dense(64))"
   ]
  },
  {
   "cell_type": "code",
   "execution_count": 9,
   "id": "cc39e6b6",
   "metadata": {},
   "outputs": [],
   "source": [
    "model.add(Dense(5))\n",
    "model.add(Activation('softmax'))"
   ]
  },
  {
   "cell_type": "code",
   "execution_count": 10,
   "id": "2357c1b7",
   "metadata": {},
   "outputs": [
    {
     "name": "stdout",
     "output_type": "stream",
     "text": [
      "WARNING:tensorflow:From C:\\Users\\adria\\AppData\\Roaming\\Python\\Python311\\site-packages\\keras\\src\\optimizers\\__init__.py:309: The name tf.train.Optimizer is deprecated. Please use tf.compat.v1.train.Optimizer instead.\n",
      "\n"
     ]
    }
   ],
   "source": [
    "model.compile(loss='sparse_categorical_crossentropy',\n",
    "              optimizer='adam',\n",
    "              metrics=['accuracy'])"
   ]
  },
  {
   "cell_type": "code",
   "execution_count": 11,
   "id": "ad4d1179",
   "metadata": {},
   "outputs": [
    {
     "name": "stdout",
     "output_type": "stream",
     "text": [
      "Epoch 1/25\n",
      "WARNING:tensorflow:From C:\\Users\\adria\\AppData\\Roaming\\Python\\Python311\\site-packages\\keras\\src\\utils\\tf_utils.py:492: The name tf.ragged.RaggedTensorValue is deprecated. Please use tf.compat.v1.ragged.RaggedTensorValue instead.\n",
      "\n",
      "WARNING:tensorflow:From C:\\Users\\adria\\AppData\\Roaming\\Python\\Python311\\site-packages\\keras\\src\\engine\\base_layer_utils.py:384: The name tf.executing_eagerly_outside_functions is deprecated. Please use tf.compat.v1.executing_eagerly_outside_functions instead.\n",
      "\n",
      "6/6 [==============================] - 3s 251ms/step - loss: 1.8962 - accuracy: 0.2099\n",
      "Epoch 2/25\n",
      "6/6 [==============================] - 2s 246ms/step - loss: 1.6199 - accuracy: 0.2346\n",
      "Epoch 3/25\n",
      "6/6 [==============================] - 2s 259ms/step - loss: 1.5806 - accuracy: 0.3210\n",
      "Epoch 4/25\n",
      "6/6 [==============================] - 2s 260ms/step - loss: 1.5983 - accuracy: 0.1790\n",
      "Epoch 5/25\n",
      "6/6 [==============================] - 2s 246ms/step - loss: 1.5920 - accuracy: 0.2469\n",
      "Epoch 6/25\n",
      "6/6 [==============================] - 2s 247ms/step - loss: 1.5651 - accuracy: 0.2469\n",
      "Epoch 7/25\n",
      "6/6 [==============================] - 2s 275ms/step - loss: 1.5716 - accuracy: 0.2407\n",
      "Epoch 8/25\n",
      "6/6 [==============================] - 2s 249ms/step - loss: 1.4871 - accuracy: 0.3395\n",
      "Epoch 9/25\n",
      "6/6 [==============================] - 2s 276ms/step - loss: 1.4330 - accuracy: 0.4383\n",
      "Epoch 10/25\n",
      "6/6 [==============================] - 2s 292ms/step - loss: 1.3649 - accuracy: 0.4198\n",
      "Epoch 11/25\n",
      "6/6 [==============================] - 2s 292ms/step - loss: 1.3245 - accuracy: 0.3704\n",
      "Epoch 12/25\n",
      "6/6 [==============================] - 2s 302ms/step - loss: 1.2587 - accuracy: 0.4630\n",
      "Epoch 13/25\n",
      "6/6 [==============================] - 2s 277ms/step - loss: 1.0740 - accuracy: 0.6049\n",
      "Epoch 14/25\n",
      "6/6 [==============================] - 2s 279ms/step - loss: 0.9390 - accuracy: 0.6543\n",
      "Epoch 15/25\n",
      "6/6 [==============================] - 2s 268ms/step - loss: 0.8538 - accuracy: 0.6605\n",
      "Epoch 16/25\n",
      "6/6 [==============================] - 2s 256ms/step - loss: 0.9494 - accuracy: 0.5432\n",
      "Epoch 17/25\n",
      "6/6 [==============================] - 2s 246ms/step - loss: 0.8521 - accuracy: 0.6728\n",
      "Epoch 18/25\n",
      "6/6 [==============================] - 2s 244ms/step - loss: 0.7710 - accuracy: 0.6358\n",
      "Epoch 19/25\n",
      "6/6 [==============================] - 2s 250ms/step - loss: 0.6422 - accuracy: 0.7716\n",
      "Epoch 20/25\n",
      "6/6 [==============================] - 2s 267ms/step - loss: 0.6355 - accuracy: 0.7840\n",
      "Epoch 21/25\n",
      "6/6 [==============================] - 2s 269ms/step - loss: 0.6387 - accuracy: 0.7469\n",
      "Epoch 22/25\n",
      "6/6 [==============================] - 2s 279ms/step - loss: 0.5680 - accuracy: 0.7593\n",
      "Epoch 23/25\n",
      "6/6 [==============================] - 2s 315ms/step - loss: 0.5649 - accuracy: 0.7963\n",
      "Epoch 24/25\n",
      "6/6 [==============================] - 2s 262ms/step - loss: 0.4668 - accuracy: 0.8519\n",
      "Epoch 25/25\n",
      "6/6 [==============================] - 2s 256ms/step - loss: 0.4352 - accuracy: 0.8210\n",
      "INFO:tensorflow:Assets written to: CNN_leafs.model\\assets\n"
     ]
    },
    {
     "name": "stderr",
     "output_type": "stream",
     "text": [
      "INFO:tensorflow:Assets written to: CNN_leafs.model\\assets\n"
     ]
    }
   ],
   "source": [
    "model.fit(X, y, epochs=25)\n",
    "model.save('CNN_leafs.model')"
   ]
  }
 ],
 "metadata": {
  "kernelspec": {
   "display_name": "Python 3 (ipykernel)",
   "language": "python",
   "name": "python3"
  },
  "language_info": {
   "codemirror_mode": {
    "name": "ipython",
    "version": 3
   },
   "file_extension": ".py",
   "mimetype": "text/x-python",
   "name": "python",
   "nbconvert_exporter": "python",
   "pygments_lexer": "ipython3",
   "version": "3.11.3"
  }
 },
 "nbformat": 4,
 "nbformat_minor": 5
}
