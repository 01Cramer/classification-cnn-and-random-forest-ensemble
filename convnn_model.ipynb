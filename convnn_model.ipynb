{
 "cells": [
  {
   "cell_type": "code",
   "execution_count": 1,
   "id": "9cc13163",
   "metadata": {},
   "outputs": [
    {
     "name": "stdout",
     "output_type": "stream",
     "text": [
      "WARNING:tensorflow:From C:\\Users\\adria\\AppData\\Roaming\\Python\\Python311\\site-packages\\keras\\src\\losses.py:2976: The name tf.losses.sparse_softmax_cross_entropy is deprecated. Please use tf.compat.v1.losses.sparse_softmax_cross_entropy instead.\n",
      "\n"
     ]
    }
   ],
   "source": [
    "import tensorflow as tf\n",
    "from tensorflow.keras.preprocessing.image import ImageDataGenerator\n",
    "from tensorflow.keras.models import Sequential\n",
    "from tensorflow.keras.layers import Dense, Dropout, Activation, Flatten\n",
    "from tensorflow.keras.layers import Conv2D, MaxPooling2D\n",
    "from tensorflow.keras.callbacks import TensorBoard"
   ]
  },
  {
   "cell_type": "code",
   "execution_count": 2,
   "id": "d31cad3b",
   "metadata": {},
   "outputs": [],
   "source": [
    "import pickle\n",
    "import time\n",
    "\n",
    "pickle_in = open(\"X.pickle\",\"rb\")\n",
    "X = pickle.load(pickle_in)\n",
    "\n",
    "pickle_in = open(\"y.pickle\",\"rb\")\n",
    "y = pickle.load(pickle_in)"
   ]
  },
  {
   "cell_type": "code",
   "execution_count": 3,
   "id": "f0d79f49",
   "metadata": {},
   "outputs": [],
   "source": [
    "X = X/255.0 # normalized data"
   ]
  },
  {
   "cell_type": "code",
   "execution_count": 4,
   "id": "f8169b1e",
   "metadata": {},
   "outputs": [
    {
     "name": "stdout",
     "output_type": "stream",
     "text": [
      "(236, 150, 150, 3)\n"
     ]
    }
   ],
   "source": [
    "print(X.shape)"
   ]
  },
  {
   "cell_type": "code",
   "execution_count": 5,
   "id": "5079867a",
   "metadata": {},
   "outputs": [],
   "source": [
    "# optimized architecture\n",
    "dense_layers = [1]\n",
    "layer_sizes = [64]\n",
    "conv_layers = [3]"
   ]
  },
  {
   "cell_type": "code",
   "execution_count": 6,
   "id": "bb90530e",
   "metadata": {},
   "outputs": [],
   "source": [
    "from sklearn.model_selection import train_test_split\n",
    "X_train, X_val, y_train, y_val = train_test_split(X, y, test_size=0.1, random_state=1)"
   ]
  },
  {
   "cell_type": "code",
   "execution_count": 7,
   "id": "b10bfc87",
   "metadata": {},
   "outputs": [
    {
     "name": "stdout",
     "output_type": "stream",
     "text": [
      "WARNING:tensorflow:From C:\\Users\\adria\\AppData\\Roaming\\Python\\Python311\\site-packages\\keras\\src\\backend.py:873: The name tf.get_default_graph is deprecated. Please use tf.compat.v1.get_default_graph instead.\n",
      "\n",
      "WARNING:tensorflow:From C:\\Users\\adria\\AppData\\Roaming\\Python\\Python311\\site-packages\\keras\\src\\layers\\pooling\\max_pooling2d.py:161: The name tf.nn.max_pool is deprecated. Please use tf.nn.max_pool2d instead.\n",
      "\n",
      "WARNING:tensorflow:From C:\\Users\\adria\\AppData\\Roaming\\Python\\Python311\\site-packages\\keras\\src\\optimizers\\__init__.py:309: The name tf.train.Optimizer is deprecated. Please use tf.compat.v1.train.Optimizer instead.\n",
      "\n",
      "Epoch 1/30\n",
      "WARNING:tensorflow:From C:\\Users\\adria\\AppData\\Roaming\\Python\\Python311\\site-packages\\keras\\src\\utils\\tf_utils.py:492: The name tf.ragged.RaggedTensorValue is deprecated. Please use tf.compat.v1.ragged.RaggedTensorValue instead.\n",
      "\n",
      "WARNING:tensorflow:From C:\\Users\\adria\\AppData\\Roaming\\Python\\Python311\\site-packages\\keras\\src\\engine\\base_layer_utils.py:384: The name tf.executing_eagerly_outside_functions is deprecated. Please use tf.compat.v1.executing_eagerly_outside_functions instead.\n",
      "\n",
      "7/7 [==============================] - 5s 471ms/step - loss: 1.7052 - accuracy: 0.1981 - val_loss: 1.5746 - val_accuracy: 0.0833\n",
      "Epoch 2/30\n",
      "7/7 [==============================] - 3s 375ms/step - loss: 1.5454 - accuracy: 0.2689 - val_loss: 1.4718 - val_accuracy: 0.4583\n",
      "Epoch 3/30\n",
      "7/7 [==============================] - 2s 359ms/step - loss: 1.4443 - accuracy: 0.4104 - val_loss: 1.3763 - val_accuracy: 0.3750\n",
      "Epoch 4/30\n",
      "7/7 [==============================] - 2s 344ms/step - loss: 1.1648 - accuracy: 0.5283 - val_loss: 1.0124 - val_accuracy: 0.5417\n",
      "Epoch 5/30\n",
      "7/7 [==============================] - 2s 345ms/step - loss: 0.8811 - accuracy: 0.6038 - val_loss: 0.6747 - val_accuracy: 0.8333\n",
      "Epoch 6/30\n",
      "7/7 [==============================] - 2s 354ms/step - loss: 0.7556 - accuracy: 0.6509 - val_loss: 0.7226 - val_accuracy: 0.6667\n",
      "Epoch 7/30\n",
      "7/7 [==============================] - 3s 413ms/step - loss: 0.6102 - accuracy: 0.7594 - val_loss: 0.3651 - val_accuracy: 0.9167\n",
      "Epoch 8/30\n",
      "7/7 [==============================] - 3s 353ms/step - loss: 0.3643 - accuracy: 0.8349 - val_loss: 0.2268 - val_accuracy: 0.9167\n",
      "Epoch 9/30\n",
      "7/7 [==============================] - 3s 390ms/step - loss: 0.3226 - accuracy: 0.8538 - val_loss: 0.6040 - val_accuracy: 0.6250\n",
      "Epoch 10/30\n",
      "7/7 [==============================] - 2s 340ms/step - loss: 0.2871 - accuracy: 0.8821 - val_loss: 0.5127 - val_accuracy: 0.7500\n",
      "Epoch 11/30\n",
      "7/7 [==============================] - 2s 347ms/step - loss: 0.2608 - accuracy: 0.8821 - val_loss: 0.4084 - val_accuracy: 0.7500\n",
      "Epoch 12/30\n",
      "7/7 [==============================] - 2s 339ms/step - loss: 0.2249 - accuracy: 0.9198 - val_loss: 0.2832 - val_accuracy: 0.7917\n",
      "Epoch 13/30\n",
      "7/7 [==============================] - 2s 340ms/step - loss: 0.1572 - accuracy: 0.9528 - val_loss: 0.2517 - val_accuracy: 0.9167\n",
      "Epoch 14/30\n",
      "7/7 [==============================] - 2s 346ms/step - loss: 0.1270 - accuracy: 0.9528 - val_loss: 0.2595 - val_accuracy: 0.8750\n",
      "Epoch 15/30\n",
      "7/7 [==============================] - 2s 332ms/step - loss: 0.0984 - accuracy: 0.9811 - val_loss: 0.2631 - val_accuracy: 0.8750\n",
      "Epoch 16/30\n",
      "7/7 [==============================] - 2s 334ms/step - loss: 0.0671 - accuracy: 0.9858 - val_loss: 0.3012 - val_accuracy: 0.9167\n",
      "Epoch 17/30\n",
      "7/7 [==============================] - 2s 338ms/step - loss: 0.0542 - accuracy: 0.9858 - val_loss: 0.2792 - val_accuracy: 0.8750\n",
      "Epoch 18/30\n",
      "7/7 [==============================] - 2s 342ms/step - loss: 0.0367 - accuracy: 0.9953 - val_loss: 0.2386 - val_accuracy: 0.9167\n",
      "Epoch 19/30\n",
      "7/7 [==============================] - 2s 334ms/step - loss: 0.0462 - accuracy: 0.9811 - val_loss: 0.7143 - val_accuracy: 0.7500\n",
      "Epoch 20/30\n",
      "7/7 [==============================] - 2s 330ms/step - loss: 0.0604 - accuracy: 0.9717 - val_loss: 0.5420 - val_accuracy: 0.8333\n",
      "Epoch 21/30\n",
      "7/7 [==============================] - 2s 338ms/step - loss: 0.2575 - accuracy: 0.9057 - val_loss: 0.7471 - val_accuracy: 0.7917\n",
      "Epoch 22/30\n",
      "7/7 [==============================] - 2s 332ms/step - loss: 0.2213 - accuracy: 0.9057 - val_loss: 0.5872 - val_accuracy: 0.7500\n",
      "Epoch 23/30\n",
      "7/7 [==============================] - 2s 336ms/step - loss: 0.1124 - accuracy: 0.9670 - val_loss: 0.2627 - val_accuracy: 0.9167\n",
      "Epoch 24/30\n",
      "7/7 [==============================] - 2s 356ms/step - loss: 0.0783 - accuracy: 0.9670 - val_loss: 0.3208 - val_accuracy: 0.8750\n",
      "Epoch 25/30\n",
      "7/7 [==============================] - 2s 337ms/step - loss: 0.0496 - accuracy: 0.9953 - val_loss: 0.2295 - val_accuracy: 0.9167\n",
      "Epoch 26/30\n",
      "7/7 [==============================] - 2s 340ms/step - loss: 0.0405 - accuracy: 0.9906 - val_loss: 0.2525 - val_accuracy: 0.9167\n",
      "Epoch 27/30\n",
      "7/7 [==============================] - 2s 338ms/step - loss: 0.0389 - accuracy: 0.9906 - val_loss: 0.2445 - val_accuracy: 0.9167\n",
      "Epoch 28/30\n",
      "7/7 [==============================] - 2s 332ms/step - loss: 0.0225 - accuracy: 1.0000 - val_loss: 0.2329 - val_accuracy: 0.8750\n",
      "Epoch 29/30\n",
      "7/7 [==============================] - 2s 341ms/step - loss: 0.0089 - accuracy: 1.0000 - val_loss: 0.3088 - val_accuracy: 0.9167\n",
      "Epoch 30/30\n",
      "7/7 [==============================] - 2s 335ms/step - loss: 0.0086 - accuracy: 1.0000 - val_loss: 0.4171 - val_accuracy: 0.8750\n"
     ]
    }
   ],
   "source": [
    "for dense_layer in dense_layers:\n",
    "    for layer_size in layer_sizes:\n",
    "        for conv_layer in conv_layers:\n",
    "            NAME = \"{}-conv-{}-nodes-{}-dense{}\".format(conv_layer, layer_size, dense_layer, int(time.time()))\n",
    "            tensorboard = TensorBoard(log_dir='logs/{}'.format(NAME))\n",
    "            #print(NAME)\n",
    "            \n",
    "            model = Sequential()\n",
    "            \n",
    "            model.add(Conv2D(layer_size, (3, 3), input_shape=X.shape[1:]))\n",
    "            model.add(Activation('relu'))\n",
    "            model.add(MaxPooling2D(pool_size=(2, 2)))\n",
    "            \n",
    "            for l in range(conv_layer-1):\n",
    "                model.add(Conv2D(layer_size, (3,3)))\n",
    "                model.add(Activation('relu'))\n",
    "                model.add(MaxPooling2D(pool_size=(2, 2)))\n",
    "                \n",
    "            model.add(Flatten())\n",
    "            for l in range(dense_layer):\n",
    "                model.add(Dense(128))\n",
    "                model.add(Activation('relu'))\n",
    "            \n",
    "            model.add(Dense(5))\n",
    "            model.add(Activation('softmax'))\n",
    "            \n",
    "            model.compile(loss='sparse_categorical_crossentropy',\n",
    "              optimizer='adam',\n",
    "              metrics=['accuracy'])\n",
    "            \n",
    "            model.fit(X_train, y_train, epochs=30, validation_data=(X_val, y_val), callbacks=[tensorboard])"
   ]
  },
  {
   "cell_type": "code",
   "execution_count": 8,
   "id": "ad4d1179",
   "metadata": {},
   "outputs": [
    {
     "name": "stdout",
     "output_type": "stream",
     "text": [
      "INFO:tensorflow:Assets written to: CNN_leafs.model\\assets\n"
     ]
    },
    {
     "name": "stderr",
     "output_type": "stream",
     "text": [
      "INFO:tensorflow:Assets written to: CNN_leafs.model\\assets\n"
     ]
    }
   ],
   "source": [
    "model.save('CNN_leafs.model')"
   ]
  }
 ],
 "metadata": {
  "kernelspec": {
   "display_name": "Python 3 (ipykernel)",
   "language": "python",
   "name": "python3"
  },
  "language_info": {
   "codemirror_mode": {
    "name": "ipython",
    "version": 3
   },
   "file_extension": ".py",
   "mimetype": "text/x-python",
   "name": "python",
   "nbconvert_exporter": "python",
   "pygments_lexer": "ipython3",
   "version": "3.11.3"
  }
 },
 "nbformat": 4,
 "nbformat_minor": 5
}
